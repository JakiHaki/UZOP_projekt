{
 "cells": [
  {
   "cell_type": "markdown",
   "metadata": {},
   "source": [
    "Jakov Rukavina"
   ]
  },
  {
   "cell_type": "markdown",
   "metadata": {
    "raw_mimetype": "text/markdown"
   },
   "source": [
    "# Projekt\n",
    "\n",
    "Implementacija članka \"Implementation of Machine Learning Model to Predict Heart Failure Disease\" u sklopu projekta na predmetu Uvod u znanost o podacima.\n",
    "\n",
    "Članak je dostupan na linku: https://pdfs.semanticscholar.org/a74f/d8c51251e8c6126a1527e545bd78860a10f9.pdf\n"
   ]
  },
  {
   "cell_type": "markdown",
   "metadata": {},
   "source": [
    "## Vrsta istraživanja u članku"
   ]
  },
  {
   "cell_type": "markdown",
   "metadata": {},
   "source": [
    "Istraživanje možemo klasificirati prema:\n",
    " - svrsi: primijenjeno istraživanje - u članku se koriste već postojeće i dobro poznate metode kako bi se poboljšali rezultati prijašnjih istraživanja na ovu temu\n",
    " - dubini: istraživačko (exploratory) istraživanje - članak se fokusira na obradu javno dostupnih medicinskih podataka kako bi se objasnila veza između određenih značajki (koje opisuju stanje pacijenta) te zatajenja srca\n",
    " - vrsti korištenih podataka: kvantitativno istraživanje - većina podataka u korištenom skupu dobivena su medicinskim mjerenjima\n",
    " - stupnju manipulacije varijablama: promatračko istraživanje - varijable se ne mijenjaju već se koriste one koje su dobivene mjerenjem (promatranjem)\n",
    " - vrsti zaključka: induktivno istraživanje - znanje se generira zaključivanjem radi postizanja generalizacije\n",
    " - vremenu provedbe: studija presjeka - promatraju se trenutna stanja skupine pacijenata\n",
    " - izvoru informacija: sekundarno istraživanje - istraživači nisu sami prikupili podatke već su koristi javno dostupan skup\n",
    " - načinu prikupljanja podataka: laboratorijsko istraživanje - uspostavlja se odnos zatajenja bolesti srca i drugih značajki\n"
   ]
  },
  {
   "cell_type": "markdown",
   "metadata": {},
   "source": [
    "## Importi biblioteka"
   ]
  },
  {
   "cell_type": "code",
   "execution_count": 1,
   "metadata": {},
   "outputs": [],
   "source": [
    "import numpy as np\n",
    "import pandas as pd\n",
    "import matplotlib.pyplot as plt\n",
    "import seaborn as sns\n",
    "import sklearn\n",
    "import random"
   ]
  },
  {
   "cell_type": "markdown",
   "metadata": {},
   "source": [
    "## Podaci"
   ]
  },
  {
   "cell_type": "markdown",
   "metadata": {},
   "source": [
    "### Pregled podataka\n",
    "\n"
   ]
  },
  {
   "cell_type": "markdown",
   "metadata": {},
   "source": [
    "Skup podataka korišten u članku sastoji se od 13 značajki i jedne oznake. Ukupno sadrži 303 opservacije odnosno očitanja stanja pacijenata te je dostupan na https://www.kaggle.com/ronitf/heart-disease-uci.\n",
    "\n",
    "Orginalni skup podataka sadrži 76 značajki no iz njega su izbačeni razni podaci poput onih privatnih (ime pacijenta itd.). "
   ]
  },
  {
   "cell_type": "markdown",
   "metadata": {},
   "source": [
    "Opis značajki u skupu podataka:\n",
    "    \n",
    " - age: The person’s age in years\n",
    " - sex: The person’s sex (1 = male, 0 = female)\n",
    " - cp: chest pain type\n",
    "        — Value 0: asymptomatic\n",
    "        — Value 1: atypical angina\n",
    "        — Value 2: non-anginal pain\n",
    "        — Value 3: typical angina\n",
    " - trestbps: The person’s resting blood pressure (mm Hg on admission to the hospital)\n",
    " - chol: The person’s cholesterol measurement in mg/dl\n",
    " - fbs: The person’s fasting blood sugar (> 120 mg/dl, 1 = true; 0 = false)\n",
    " - restecg: resting electrocardiographic results\n",
    "        — Value 0: showing probable or definite left ventricular hypertrophy by Estes’ criteria\n",
    "        — Value 1: normal\n",
    "        — Value 2: having ST-T wave abnormality (T wave inversions and/or ST elevation or depression of > 0.05 mV)\n",
    " - thalach: The person’s maximum heart rate achieved\n",
    " - exang: Exercise induced angina (1 = yes; 0 = no)\n",
    " - oldpeak: ST depression induced by exercise relative to rest (‘ST’ relates to positions on the ECG plot.)\n",
    " - slope: the slope of the peak exercise ST segment\n",
    "        — Value 0: downsloping\n",
    "        — Value 1: flat\n",
    "        — Value 2: upsloping\n",
    " - ca: The number of major vessels (0–3)\n",
    " - thal: A blood disorder called thalassemia\n",
    "        — Value 0: NULL (dropped from the dataset previously\n",
    "        — Value 1: fixed defect (no blood flow in some part of the heart)\n",
    "        — Value 2: normal blood flow\n",
    "        — Value 3: reversible defect (a blood flow is observed but it is not normal)\n",
    " - target: Heart disease (1 = yes, 0 = no)"
   ]
  },
  {
   "cell_type": "markdown",
   "metadata": {},
   "source": [
    "Učitavanje .csv filea"
   ]
  },
  {
   "cell_type": "code",
   "execution_count": 2,
   "metadata": {},
   "outputs": [],
   "source": [
    "file = 'data/heart_cleveland.csv'\n",
    "# file = 'data/heart.csv'\n",
    "df = pd.read_csv(file)"
   ]
  },
  {
   "cell_type": "markdown",
   "metadata": {},
   "source": [
    "\n",
    "Prvi pregled podataka"
   ]
  },
  {
   "cell_type": "code",
   "execution_count": 3,
   "metadata": {},
   "outputs": [
    {
     "data": {
      "text/html": [
       "<div>\n",
       "<style scoped>\n",
       "    .dataframe tbody tr th:only-of-type {\n",
       "        vertical-align: middle;\n",
       "    }\n",
       "\n",
       "    .dataframe tbody tr th {\n",
       "        vertical-align: top;\n",
       "    }\n",
       "\n",
       "    .dataframe thead th {\n",
       "        text-align: right;\n",
       "    }\n",
       "</style>\n",
       "<table border=\"1\" class=\"dataframe\">\n",
       "  <thead>\n",
       "    <tr style=\"text-align: right;\">\n",
       "      <th></th>\n",
       "      <th>age</th>\n",
       "      <th>sex</th>\n",
       "      <th>cp</th>\n",
       "      <th>trestbps</th>\n",
       "      <th>chol</th>\n",
       "      <th>fbs</th>\n",
       "      <th>restecg</th>\n",
       "      <th>thalach</th>\n",
       "      <th>exang</th>\n",
       "      <th>oldpeak</th>\n",
       "      <th>slope</th>\n",
       "      <th>ca</th>\n",
       "      <th>thal</th>\n",
       "      <th>target</th>\n",
       "    </tr>\n",
       "  </thead>\n",
       "  <tbody>\n",
       "    <tr>\n",
       "      <th>0</th>\n",
       "      <td>63</td>\n",
       "      <td>1</td>\n",
       "      <td>3</td>\n",
       "      <td>145</td>\n",
       "      <td>233</td>\n",
       "      <td>1</td>\n",
       "      <td>0</td>\n",
       "      <td>150</td>\n",
       "      <td>0</td>\n",
       "      <td>2.3</td>\n",
       "      <td>0</td>\n",
       "      <td>0</td>\n",
       "      <td>1</td>\n",
       "      <td>1</td>\n",
       "    </tr>\n",
       "    <tr>\n",
       "      <th>1</th>\n",
       "      <td>37</td>\n",
       "      <td>1</td>\n",
       "      <td>2</td>\n",
       "      <td>130</td>\n",
       "      <td>250</td>\n",
       "      <td>0</td>\n",
       "      <td>1</td>\n",
       "      <td>187</td>\n",
       "      <td>0</td>\n",
       "      <td>3.5</td>\n",
       "      <td>0</td>\n",
       "      <td>0</td>\n",
       "      <td>2</td>\n",
       "      <td>1</td>\n",
       "    </tr>\n",
       "    <tr>\n",
       "      <th>2</th>\n",
       "      <td>41</td>\n",
       "      <td>0</td>\n",
       "      <td>1</td>\n",
       "      <td>130</td>\n",
       "      <td>204</td>\n",
       "      <td>0</td>\n",
       "      <td>0</td>\n",
       "      <td>172</td>\n",
       "      <td>0</td>\n",
       "      <td>1.4</td>\n",
       "      <td>2</td>\n",
       "      <td>0</td>\n",
       "      <td>2</td>\n",
       "      <td>1</td>\n",
       "    </tr>\n",
       "    <tr>\n",
       "      <th>3</th>\n",
       "      <td>56</td>\n",
       "      <td>1</td>\n",
       "      <td>1</td>\n",
       "      <td>120</td>\n",
       "      <td>236</td>\n",
       "      <td>0</td>\n",
       "      <td>1</td>\n",
       "      <td>178</td>\n",
       "      <td>0</td>\n",
       "      <td>0.8</td>\n",
       "      <td>2</td>\n",
       "      <td>0</td>\n",
       "      <td>2</td>\n",
       "      <td>1</td>\n",
       "    </tr>\n",
       "    <tr>\n",
       "      <th>4</th>\n",
       "      <td>57</td>\n",
       "      <td>0</td>\n",
       "      <td>0</td>\n",
       "      <td>120</td>\n",
       "      <td>354</td>\n",
       "      <td>0</td>\n",
       "      <td>1</td>\n",
       "      <td>163</td>\n",
       "      <td>1</td>\n",
       "      <td>0.6</td>\n",
       "      <td>2</td>\n",
       "      <td>0</td>\n",
       "      <td>2</td>\n",
       "      <td>1</td>\n",
       "    </tr>\n",
       "  </tbody>\n",
       "</table>\n",
       "</div>"
      ],
      "text/plain": [
       "   age  sex  cp  trestbps  chol  fbs  restecg  thalach  exang  oldpeak  slope  \\\n",
       "0   63    1   3       145   233    1        0      150      0      2.3      0   \n",
       "1   37    1   2       130   250    0        1      187      0      3.5      0   \n",
       "2   41    0   1       130   204    0        0      172      0      1.4      2   \n",
       "3   56    1   1       120   236    0        1      178      0      0.8      2   \n",
       "4   57    0   0       120   354    0        1      163      1      0.6      2   \n",
       "\n",
       "   ca  thal  target  \n",
       "0   0     1       1  \n",
       "1   0     2       1  \n",
       "2   0     2       1  \n",
       "3   0     2       1  \n",
       "4   0     2       1  "
      ]
     },
     "execution_count": 3,
     "metadata": {},
     "output_type": "execute_result"
    }
   ],
   "source": [
    "df.head()"
   ]
  },
  {
   "cell_type": "markdown",
   "metadata": {},
   "source": [
    "Pregled kategoričkih podataka."
   ]
  },
  {
   "cell_type": "code",
   "execution_count": 4,
   "metadata": {},
   "outputs": [
    {
     "data": {
      "image/png": "[encoded data removed]",
      "text/plain": [
       "<Figure size 1080x720 with 9 Axes>"
      ]
     },
     "metadata": {
      "needs_background": "light"
     },
     "output_type": "display_data"
    }
   ],
   "source": [
    "fig, ax = plt.subplots(3, 3, figsize=(15,10))\n",
    "\n",
    "ax[0, 0].hist(df.sex)\n",
    "ax[0, 0].title.set_text('sex')\n",
    "\n",
    "ax[0, 1].hist(df.cp)\n",
    "ax[0, 1].title.set_text('cp')\n",
    "\n",
    "ax[0, 2].hist(df.fbs)\n",
    "ax[0, 2].title.set_text('fbs')\n",
    "\n",
    "ax[1, 0].hist(df.restecg)\n",
    "ax[1, 0].title.set_text('restecg')\n",
    "\n",
    "ax[1, 1].hist(df.exang)\n",
    "ax[1, 1].title.set_text('exang')\n",
    "\n",
    "ax[1, 2].hist(df.slope)\n",
    "ax[1, 2].title.set_text('slope')\n",
    "\n",
    "ax[2, 0].hist(df.ca)\n",
    "ax[2, 0].title.set_text('ca')\n",
    "\n",
    "ax[2, 1].hist(df.thal)\n",
    "ax[2, 1].title.set_text('thal')\n",
    "\n",
    "ax[2, 2].hist(df.target)\n",
    "ax[2, 2].title.set_text('target')\n",
    "\n",
    "plt.show()"
   ]
  },
  {
   "cell_type": "code",
   "execution_count": 5,
   "metadata": {},
   "outputs": [
    {
     "data": {
      "text/html": [
       "<div>\n",
       "<style scoped>\n",
       "    .dataframe tbody tr th:only-of-type {\n",
       "        vertical-align: middle;\n",
       "    }\n",
       "\n",
       "    .dataframe tbody tr th {\n",
       "        vertical-align: top;\n",
       "    }\n",
       "\n",
       "    .dataframe thead th {\n",
       "        text-align: right;\n",
       "    }\n",
       "</style>\n",
       "<table border=\"1\" class=\"dataframe\">\n",
       "  <thead>\n",
       "    <tr style=\"text-align: right;\">\n",
       "      <th></th>\n",
       "      <th>age</th>\n",
       "      <th>sex</th>\n",
       "      <th>cp</th>\n",
       "      <th>trestbps</th>\n",
       "      <th>chol</th>\n",
       "      <th>fbs</th>\n",
       "      <th>restecg</th>\n",
       "      <th>thalach</th>\n",
       "      <th>exang</th>\n",
       "      <th>oldpeak</th>\n",
       "      <th>slope</th>\n",
       "      <th>ca</th>\n",
       "      <th>thal</th>\n",
       "      <th>target</th>\n",
       "    </tr>\n",
       "  </thead>\n",
       "  <tbody>\n",
       "    <tr>\n",
       "      <th>count</th>\n",
       "      <td>303.000000</td>\n",
       "      <td>303.000000</td>\n",
       "      <td>303.000000</td>\n",
       "      <td>303.000000</td>\n",
       "      <td>303.000000</td>\n",
       "      <td>303.000000</td>\n",
       "      <td>303.000000</td>\n",
       "      <td>303.000000</td>\n",
       "      <td>303.000000</td>\n",
       "      <td>303.000000</td>\n",
       "      <td>303.000000</td>\n",
       "      <td>303.000000</td>\n",
       "      <td>303.000000</td>\n",
       "      <td>303.000000</td>\n",
       "    </tr>\n",
       "    <tr>\n",
       "      <th>mean</th>\n",
       "      <td>54.366337</td>\n",
       "      <td>0.683168</td>\n",
       "      <td>0.966997</td>\n",
       "      <td>131.623762</td>\n",
       "      <td>246.264026</td>\n",
       "      <td>0.148515</td>\n",
       "      <td>0.528053</td>\n",
       "      <td>149.646865</td>\n",
       "      <td>0.326733</td>\n",
       "      <td>1.039604</td>\n",
       "      <td>1.399340</td>\n",
       "      <td>0.729373</td>\n",
       "      <td>2.313531</td>\n",
       "      <td>0.544554</td>\n",
       "    </tr>\n",
       "    <tr>\n",
       "      <th>std</th>\n",
       "      <td>9.082101</td>\n",
       "      <td>0.466011</td>\n",
       "      <td>1.032052</td>\n",
       "      <td>17.538143</td>\n",
       "      <td>51.830751</td>\n",
       "      <td>0.356198</td>\n",
       "      <td>0.525860</td>\n",
       "      <td>22.905161</td>\n",
       "      <td>0.469794</td>\n",
       "      <td>1.161075</td>\n",
       "      <td>0.616226</td>\n",
       "      <td>1.022606</td>\n",
       "      <td>0.612277</td>\n",
       "      <td>0.498835</td>\n",
       "    </tr>\n",
       "    <tr>\n",
       "      <th>min</th>\n",
       "      <td>29.000000</td>\n",
       "      <td>0.000000</td>\n",
       "      <td>0.000000</td>\n",
       "      <td>94.000000</td>\n",
       "      <td>126.000000</td>\n",
       "      <td>0.000000</td>\n",
       "      <td>0.000000</td>\n",
       "      <td>71.000000</td>\n",
       "      <td>0.000000</td>\n",
       "      <td>0.000000</td>\n",
       "      <td>0.000000</td>\n",
       "      <td>0.000000</td>\n",
       "      <td>0.000000</td>\n",
       "      <td>0.000000</td>\n",
       "    </tr>\n",
       "    <tr>\n",
       "      <th>25%</th>\n",
       "      <td>47.500000</td>\n",
       "      <td>0.000000</td>\n",
       "      <td>0.000000</td>\n",
       "      <td>120.000000</td>\n",
       "      <td>211.000000</td>\n",
       "      <td>0.000000</td>\n",
       "      <td>0.000000</td>\n",
       "      <td>133.500000</td>\n",
       "      <td>0.000000</td>\n",
       "      <td>0.000000</td>\n",
       "      <td>1.000000</td>\n",
       "      <td>0.000000</td>\n",
       "      <td>2.000000</td>\n",
       "      <td>0.000000</td>\n",
       "    </tr>\n",
       "    <tr>\n",
       "      <th>50%</th>\n",
       "      <td>55.000000</td>\n",
       "      <td>1.000000</td>\n",
       "      <td>1.000000</td>\n",
       "      <td>130.000000</td>\n",
       "      <td>240.000000</td>\n",
       "      <td>0.000000</td>\n",
       "      <td>1.000000</td>\n",
       "      <td>153.000000</td>\n",
       "      <td>0.000000</td>\n",
       "      <td>0.800000</td>\n",
       "      <td>1.000000</td>\n",
       "      <td>0.000000</td>\n",
       "      <td>2.000000</td>\n",
       "      <td>1.000000</td>\n",
       "    </tr>\n",
       "    <tr>\n",
       "      <th>75%</th>\n",
       "      <td>61.000000</td>\n",
       "      <td>1.000000</td>\n",
       "      <td>2.000000</td>\n",
       "      <td>140.000000</td>\n",
       "      <td>274.500000</td>\n",
       "      <td>0.000000</td>\n",
       "      <td>1.000000</td>\n",
       "      <td>166.000000</td>\n",
       "      <td>1.000000</td>\n",
       "      <td>1.600000</td>\n",
       "      <td>2.000000</td>\n",
       "      <td>1.000000</td>\n",
       "      <td>3.000000</td>\n",
       "      <td>1.000000</td>\n",
       "    </tr>\n",
       "    <tr>\n",
       "      <th>max</th>\n",
       "      <td>77.000000</td>\n",
       "      <td>1.000000</td>\n",
       "      <td>3.000000</td>\n",
       "      <td>200.000000</td>\n",
       "      <td>564.000000</td>\n",
       "      <td>1.000000</td>\n",
       "      <td>2.000000</td>\n",
       "      <td>202.000000</td>\n",
       "      <td>1.000000</td>\n",
       "      <td>6.200000</td>\n",
       "      <td>2.000000</td>\n",
       "      <td>4.000000</td>\n",
       "      <td>3.000000</td>\n",
       "      <td>1.000000</td>\n",
       "    </tr>\n",
       "  </tbody>\n",
       "</table>\n",
       "</div>"
      ],
      "text/plain": [
       "              age         sex          cp    trestbps        chol         fbs  \\\n",
       "count  303.000000  303.000000  303.000000  303.000000  303.000000  303.000000   \n",
       "mean    54.366337    0.683168    0.966997  131.623762  246.264026    0.148515   \n",
       "std      9.082101    0.466011    1.032052   17.538143   51.830751    0.356198   \n",
       "min     29.000000    0.000000    0.000000   94.000000  126.000000    0.000000   \n",
       "25%     47.500000    0.000000    0.000000  120.000000  211.000000    0.000000   \n",
       "50%     55.000000    1.000000    1.000000  130.000000  240.000000    0.000000   \n",
       "75%     61.000000    1.000000    2.000000  140.000000  274.500000    0.000000   \n",
       "max     77.000000    1.000000    3.000000  200.000000  564.000000    1.000000   \n",
       "\n",
       "          restecg     thalach       exang     oldpeak       slope          ca  \\\n",
       "count  303.000000  303.000000  303.000000  303.000000  303.000000  303.000000   \n",
       "mean     0.528053  149.646865    0.326733    1.039604    1.399340    0.729373   \n",
       "std      0.525860   22.905161    0.469794    1.161075    0.616226    1.022606   \n",
       "min      0.000000   71.000000    0.000000    0.000000    0.000000    0.000000   \n",
       "25%      0.000000  133.500000    0.000000    0.000000    1.000000    0.000000   \n",
       "50%      1.000000  153.000000    0.000000    0.800000    1.000000    0.000000   \n",
       "75%      1.000000  166.000000    1.000000    1.600000    2.000000    1.000000   \n",
       "max      2.000000  202.000000    1.000000    6.200000    2.000000    4.000000   \n",
       "\n",
       "             thal      target  \n",
       "count  303.000000  303.000000  \n",
       "mean     2.313531    0.544554  \n",
       "std      0.612277    0.498835  \n",
       "min      0.000000    0.000000  \n",
       "25%      2.000000    0.000000  \n",
       "50%      2.000000    1.000000  \n",
       "75%      3.000000    1.000000  \n",
       "max      3.000000    1.000000  "
      ]
     },
     "execution_count": 5,
     "metadata": {},
     "output_type": "execute_result"
    }
   ],
   "source": [
    "df.describe()"
   ]
  },
  {
   "cell_type": "code",
   "execution_count": 6,
   "metadata": {
    "scrolled": true
   },
   "outputs": [
    {
     "name": "stdout",
     "output_type": "stream",
     "text": [
      "<class 'pandas.core.frame.DataFrame'>\n",
      "RangeIndex: 303 entries, 0 to 302\n",
      "Data columns (total 14 columns):\n",
      " #   Column    Non-Null Count  Dtype  \n",
      "---  ------    --------------  -----  \n",
      " 0   age       303 non-null    int64  \n",
      " 1   sex       303 non-null    int64  \n",
      " 2   cp        303 non-null    int64  \n",
      " 3   trestbps  303 non-null    int64  \n",
      " 4   chol      303 non-null    int64  \n",
      " 5   fbs       303 non-null    int64  \n",
      " 6   restecg   303 non-null    int64  \n",
      " 7   thalach   303 non-null    int64  \n",
      " 8   exang     303 non-null    int64  \n",
      " 9   oldpeak   303 non-null    float64\n",
      " 10  slope     303 non-null    int64  \n",
      " 11  ca        303 non-null    int64  \n",
      " 12  thal      303 non-null    int64  \n",
      " 13  target    303 non-null    int64  \n",
      "dtypes: float64(1), int64(13)\n",
      "memory usage: 33.3 KB\n"
     ]
    }
   ],
   "source": [
    "df.info()"
   ]
  },
  {
   "cell_type": "markdown",
   "metadata": {},
   "source": [
    "### Outliers - stršeći podaci"
   ]
  },
  {
   "cell_type": "code",
   "execution_count": 7,
   "metadata": {},
   "outputs": [
    {
     "data": {
      "image/png": "[encoded data removed]",
      "text/plain": [
       "<Figure size 1440x288 with 5 Axes>"
      ]
     },
     "metadata": {
      "needs_background": "light"
     },
     "output_type": "display_data"
    }
   ],
   "source": [
    "fig, ax = plt.subplots(1, 5, figsize=(20,4))\n",
    "\n",
    "ax[0].boxplot(df.age)\n",
    "ax[0].title.set_text('age')\n",
    "\n",
    "ax[1].boxplot(df.trestbps)\n",
    "ax[1].title.set_text('trestbps')\n",
    "\n",
    "ax[2].boxplot(df.chol)\n",
    "ax[2].title.set_text('chol')\n",
    "\n",
    "ax[3].boxplot(df.thalach)\n",
    "ax[3].title.set_text('thalach')\n",
    "\n",
    "ax[4].boxplot(df.oldpeak)\n",
    "ax[4].title.set_text('oldpeak')\n",
    "\n",
    "plt.show()"
   ]
  },
  {
   "cell_type": "code",
   "execution_count": 8,
   "metadata": {},
   "outputs": [
    {
     "name": "stdout",
     "output_type": "stream",
     "text": [
      "2\n",
      "1\n"
     ]
    }
   ],
   "source": [
    "print(df.loc[df.oldpeak > 5]['oldpeak'].count())\n",
    "print(df.loc[df.chol > 500]['chol'].count())\n"
   ]
  },
  {
   "cell_type": "markdown",
   "metadata": {},
   "source": [
    "Izbacivanje stršećih podataka"
   ]
  },
  {
   "cell_type": "code",
   "execution_count": 9,
   "metadata": {},
   "outputs": [
    {
     "name": "stdout",
     "output_type": "stream",
     "text": [
      "303\n",
      "300\n"
     ]
    }
   ],
   "source": [
    "print(len(df))\n",
    "\n",
    "df = df.loc[df.chol <= 500]\n",
    "df = df.loc[df.oldpeak <= 5]\n",
    "\n",
    "print(len(df))"
   ]
  },
  {
   "cell_type": "markdown",
   "metadata": {},
   "source": [
    "Izbacivanje duplikata"
   ]
  },
  {
   "cell_type": "code",
   "execution_count": 10,
   "metadata": {},
   "outputs": [
    {
     "name": "stdout",
     "output_type": "stream",
     "text": [
      "300\n",
      "299\n"
     ]
    }
   ],
   "source": [
    "print(len(df))\n",
    "\n",
    "df.drop_duplicates(inplace=True)\n",
    "\n",
    "print(len(df))"
   ]
  },
  {
   "cell_type": "markdown",
   "metadata": {},
   "source": [
    "### Važnost pojedinih značajki"
   ]
  },
  {
   "cell_type": "code",
   "execution_count": 11,
   "metadata": {},
   "outputs": [
    {
     "data": {
      "text/plain": [
       "<AxesSubplot:>"
      ]
     },
     "execution_count": 11,
     "metadata": {},
     "output_type": "execute_result"
    },
    {
     "data": {
      "image/png": "[encoded data removed]",
      "text/plain": [
       "<Figure size 432x288 with 1 Axes>"
      ]
     },
     "metadata": {
      "needs_background": "light"
     },
     "output_type": "display_data"
    }
   ],
   "source": [
    "from sklearn.feature_selection import SelectKBest, mutual_info_classif\n",
    "\n",
    "X = df.filter(regex='^(?!target$).*')\n",
    "y = df['target']\n",
    "\n",
    "kbest = SelectKBest(mutual_info_classif, k=13)\n",
    "kbest.fit(X, y)\n",
    "\n",
    "feat_importances = pd.Series(kbest.scores_, index=X.columns)\n",
    "feat_importances.nlargest(13).plot(kind='barh')\n"
   ]
  },
  {
   "cell_type": "markdown",
   "metadata": {},
   "source": [
    "Vizualizacija utjecaja najbitnijih značajki na zatajenje srca."
   ]
  },
  {
   "cell_type": "code",
   "execution_count": 12,
   "metadata": {},
   "outputs": [
    {
     "data": {
      "image/png": "[encoded data removed]",
      "text/plain": [
       "<Figure size 432x288 with 1 Axes>"
      ]
     },
     "metadata": {
      "needs_background": "light"
     },
     "output_type": "display_data"
    }
   ],
   "source": [
    "# mask\n",
    "mask_hf = df.target == 1\n",
    "\n",
    "# plot\n",
    "plt.scatter(df.loc[mask_hf,'oldpeak'], df.loc[mask_hf,'thal'], alpha=0.5, c='r', label='HF')\n",
    "plt.scatter(df.loc[~mask_hf,'oldpeak'], df.loc[~mask_hf,'thal'], alpha=0.5, c='g', label='no HF')\n",
    "plt.xlabel('oldpeak - ST depression')\n",
    "plt.ylabel('thal - thalassemia')\n",
    "plt.title('2D prikaz značajki oldpeak i thal (crvene točke - zatajenje srca, zelene točke - nema zatajenja)')\n",
    "plt.grid()\n",
    "plt.legend(loc='best')\n",
    "plt.show()"
   ]
  },
  {
   "cell_type": "markdown",
   "metadata": {},
   "source": [
    "Još jedan par zanimljivih značajki"
   ]
  },
  {
   "cell_type": "code",
   "execution_count": 13,
   "metadata": {},
   "outputs": [
    {
     "data": {
      "image/png": "[encoded data removed]",
      "text/plain": [
       "<Figure size 432x288 with 1 Axes>"
      ]
     },
     "metadata": {
      "needs_background": "light"
     },
     "output_type": "display_data"
    }
   ],
   "source": [
    "# mask\n",
    "mask_hf = df.target == 1\n",
    "\n",
    "# plot\n",
    "plt.scatter(df.loc[mask_hf,'age'], df.loc[mask_hf,'thalach'], alpha=0.5, c='r', label='HF')\n",
    "plt.scatter(df.loc[~mask_hf,'age'], df.loc[~mask_hf,'thalach'], alpha=0.5, c='g', label='no HF')\n",
    "plt.xlabel('age')\n",
    "plt.ylabel('thalach - max. heart rate')\n",
    "plt.title('2D prikaz značajki age i thalach (crvene točke - zatajenje srca, zelene točke - nema zatajenja)')\n",
    "plt.grid()\n",
    "plt.legend(loc='best')\n",
    "plt.show()"
   ]
  },
  {
   "cell_type": "markdown",
   "metadata": {},
   "source": [
    "### Korelacija značajki\n",
    "\n",
    "Iz grafa se vidi da nema značajki koje su u visokoj korelacije stoga ne treba izbacivati značajke po ovoj osnovi."
   ]
  },
  {
   "cell_type": "code",
   "execution_count": 14,
   "metadata": {},
   "outputs": [
    {
     "data": {
      "text/plain": [
       "<AxesSubplot:>"
      ]
     },
     "execution_count": 14,
     "metadata": {},
     "output_type": "execute_result"
    },
    {
     "data": {
      "image/png": "[encoded data removed]",
      "text/plain": [
       "<Figure size 864x720 with 2 Axes>"
      ]
     },
     "metadata": {
      "needs_background": "light"
     },
     "output_type": "display_data"
    }
   ],
   "source": [
    "fig, ax = plt.subplots(figsize=(12,10))\n",
    "sns.heatmap(df.corr(), annot=True)"
   ]
  },
  {
   "cell_type": "markdown",
   "metadata": {},
   "source": [
    "### Stvaranje sintetičkih podataka"
   ]
  },
  {
   "cell_type": "code",
   "execution_count": 15,
   "metadata": {},
   "outputs": [],
   "source": [
    "#from sklearn.neighbors import KernelDensity\n",
    "#kde = KernelDensity(kernel='gaussian', bandwidth=1.0).fit(df)\n",
    "#synthetic = pd.DataFrame(kde.sample(samples))\n",
    "\n",
    "\n",
    "def synthesize_data(samples: int, exisitngData: pd.DataFrame):\n",
    "    \n",
    "    new = []\n",
    "    \n",
    "    for i in range(samples):\n",
    "        \n",
    "        original = exisitngData.iloc[random.randint(0, len(exisitngData) - 1)].copy()\n",
    "        #print(original)\n",
    "        original['age'] += random.gauss(mu=0.0, sigma=(original['age'] / 50))\n",
    "        original['trestbps'] += random.gauss(mu=0.0, sigma=(original['trestbps'] / 50))\n",
    "        original['chol'] += random.gauss(mu=0.0, sigma=(original['chol'] / 50))\n",
    "        original['thalach'] += random.gauss(mu=0.0, sigma=(original['thalach'] / 50))\n",
    "        original['oldpeak'] += random.gauss(mu=0.0, sigma=(original['oldpeak'] / 50))\n",
    "        #print(original)\n",
    "        new.append(original)\n",
    "    \n",
    "    new = pd.DataFrame(new)\n",
    "    \n",
    "    new.age = np.round(new.age).astype(int) \n",
    "    new.sex = np.round(new.sex).astype(int) \n",
    "    new.cp = np.round(new.cp).astype(int) \n",
    "    new.trestbps = np.round(new.trestbps).astype(int) \n",
    "    new.chol = np.round(new.chol).astype(int) \n",
    "    new.fbs = np.round(new.fbs).astype(int) \n",
    "    new.restecg = np.round(new.restecg).astype(int) \n",
    "    new.thalach = np.round(new.thalach).astype(int) \n",
    "    new.exang = np.round(new.exang).astype(int) \n",
    "    new.oldpeak = np.round(new.oldpeak, 1)\n",
    "    new.slope = np.round(new.slope).astype(int) \n",
    "    new.ca = np.round(new.ca).astype(int) \n",
    "    new.thal = np.round(new.thal).astype(int) \n",
    "    new.target = np.round(new.target).astype(int) \n",
    "    \n",
    "    #new.drop(columns=['Id'])\n",
    "    return new\n",
    "\n",
    "        \n",
    "ndf = synthesize_data(700, df)\n",
    "df = pd.merge(ndf, df, how='outer')\n"
   ]
  },
  {
   "cell_type": "markdown",
   "metadata": {},
   "source": [
    "Ponovo izbacivanje duplikata za svaki slučaj"
   ]
  },
  {
   "cell_type": "code",
   "execution_count": 16,
   "metadata": {},
   "outputs": [
    {
     "name": "stdout",
     "output_type": "stream",
     "text": [
      "999\n",
      "999\n"
     ]
    }
   ],
   "source": [
    "print(len(df))\n",
    "\n",
    "df.drop_duplicates(inplace=True)\n",
    "\n",
    "print(len(df))"
   ]
  },
  {
   "cell_type": "markdown",
   "metadata": {},
   "source": [
    "### Pretvorba kategoričkih značajki u binarne\n",
    "\n",
    "Kategorije značajki 'cp', 'restecg', 'slope' i 'thal' nemaju poredak pa ih pretvaramo u binarne uz one-hot encoding."
   ]
  },
  {
   "cell_type": "code",
   "execution_count": 17,
   "metadata": {},
   "outputs": [
    {
     "data": {
      "text/plain": [
       "Index(['age', 'sex', 'trestbps', 'chol', 'fbs', 'thalach', 'exang', 'oldpeak',\n",
       "       'ca', 'target', 'cp_0', 'cp_1', 'cp_2', 'cp_3', 'restecg_0',\n",
       "       'restecg_1', 'restecg_2', 'slope_0', 'slope_1', 'slope_2', 'thal_0',\n",
       "       'thal_1', 'thal_2', 'thal_3'],\n",
       "      dtype='object')"
      ]
     },
     "execution_count": 17,
     "metadata": {},
     "output_type": "execute_result"
    }
   ],
   "source": [
    "df = pd.get_dummies(df, columns=['cp', 'restecg', 'slope', 'thal'])\n",
    "df.columns"
   ]
  },
  {
   "cell_type": "markdown",
   "metadata": {},
   "source": [
    "\n",
    "### Odvajanje i skaliranje podataka"
   ]
  },
  {
   "cell_type": "code",
   "execution_count": 18,
   "metadata": {},
   "outputs": [],
   "source": [
    "X = df.filter(regex='^(?!target$).*')\n",
    "y = df['target']"
   ]
  },
  {
   "cell_type": "code",
   "execution_count": 19,
   "metadata": {},
   "outputs": [
    {
     "data": {
      "text/html": [
       "<div>\n",
       "<style scoped>\n",
       "    .dataframe tbody tr th:only-of-type {\n",
       "        vertical-align: middle;\n",
       "    }\n",
       "\n",
       "    .dataframe tbody tr th {\n",
       "        vertical-align: top;\n",
       "    }\n",
       "\n",
       "    .dataframe thead th {\n",
       "        text-align: right;\n",
       "    }\n",
       "</style>\n",
       "<table border=\"1\" class=\"dataframe\">\n",
       "  <thead>\n",
       "    <tr style=\"text-align: right;\">\n",
       "      <th></th>\n",
       "      <th>age</th>\n",
       "      <th>sex</th>\n",
       "      <th>trestbps</th>\n",
       "      <th>chol</th>\n",
       "      <th>fbs</th>\n",
       "      <th>thalach</th>\n",
       "      <th>exang</th>\n",
       "      <th>oldpeak</th>\n",
       "      <th>ca</th>\n",
       "      <th>cp_0</th>\n",
       "      <th>...</th>\n",
       "      <th>restecg_0</th>\n",
       "      <th>restecg_1</th>\n",
       "      <th>restecg_2</th>\n",
       "      <th>slope_0</th>\n",
       "      <th>slope_1</th>\n",
       "      <th>slope_2</th>\n",
       "      <th>thal_0</th>\n",
       "      <th>thal_1</th>\n",
       "      <th>thal_2</th>\n",
       "      <th>thal_3</th>\n",
       "    </tr>\n",
       "  </thead>\n",
       "  <tbody>\n",
       "    <tr>\n",
       "      <th>0</th>\n",
       "      <td>57</td>\n",
       "      <td>1</td>\n",
       "      <td>171</td>\n",
       "      <td>288</td>\n",
       "      <td>0</td>\n",
       "      <td>155</td>\n",
       "      <td>0</td>\n",
       "      <td>0.2</td>\n",
       "      <td>0</td>\n",
       "      <td>0</td>\n",
       "      <td>...</td>\n",
       "      <td>1</td>\n",
       "      <td>0</td>\n",
       "      <td>0</td>\n",
       "      <td>0</td>\n",
       "      <td>1</td>\n",
       "      <td>0</td>\n",
       "      <td>0</td>\n",
       "      <td>0</td>\n",
       "      <td>0</td>\n",
       "      <td>1</td>\n",
       "    </tr>\n",
       "    <tr>\n",
       "      <th>1</th>\n",
       "      <td>56</td>\n",
       "      <td>1</td>\n",
       "      <td>129</td>\n",
       "      <td>252</td>\n",
       "      <td>1</td>\n",
       "      <td>139</td>\n",
       "      <td>1</td>\n",
       "      <td>0.6</td>\n",
       "      <td>1</td>\n",
       "      <td>0</td>\n",
       "      <td>...</td>\n",
       "      <td>1</td>\n",
       "      <td>0</td>\n",
       "      <td>0</td>\n",
       "      <td>0</td>\n",
       "      <td>1</td>\n",
       "      <td>0</td>\n",
       "      <td>0</td>\n",
       "      <td>1</td>\n",
       "      <td>0</td>\n",
       "      <td>0</td>\n",
       "    </tr>\n",
       "    <tr>\n",
       "      <th>2</th>\n",
       "      <td>64</td>\n",
       "      <td>1</td>\n",
       "      <td>110</td>\n",
       "      <td>240</td>\n",
       "      <td>0</td>\n",
       "      <td>163</td>\n",
       "      <td>0</td>\n",
       "      <td>0.6</td>\n",
       "      <td>2</td>\n",
       "      <td>1</td>\n",
       "      <td>...</td>\n",
       "      <td>1</td>\n",
       "      <td>0</td>\n",
       "      <td>0</td>\n",
       "      <td>0</td>\n",
       "      <td>0</td>\n",
       "      <td>1</td>\n",
       "      <td>0</td>\n",
       "      <td>1</td>\n",
       "      <td>0</td>\n",
       "      <td>0</td>\n",
       "    </tr>\n",
       "    <tr>\n",
       "      <th>3</th>\n",
       "      <td>44</td>\n",
       "      <td>1</td>\n",
       "      <td>105</td>\n",
       "      <td>211</td>\n",
       "      <td>0</td>\n",
       "      <td>149</td>\n",
       "      <td>1</td>\n",
       "      <td>3.1</td>\n",
       "      <td>0</td>\n",
       "      <td>1</td>\n",
       "      <td>...</td>\n",
       "      <td>1</td>\n",
       "      <td>0</td>\n",
       "      <td>0</td>\n",
       "      <td>0</td>\n",
       "      <td>1</td>\n",
       "      <td>0</td>\n",
       "      <td>0</td>\n",
       "      <td>0</td>\n",
       "      <td>1</td>\n",
       "      <td>0</td>\n",
       "    </tr>\n",
       "    <tr>\n",
       "      <th>4</th>\n",
       "      <td>57</td>\n",
       "      <td>1</td>\n",
       "      <td>155</td>\n",
       "      <td>169</td>\n",
       "      <td>0</td>\n",
       "      <td>175</td>\n",
       "      <td>0</td>\n",
       "      <td>1.6</td>\n",
       "      <td>0</td>\n",
       "      <td>0</td>\n",
       "      <td>...</td>\n",
       "      <td>0</td>\n",
       "      <td>1</td>\n",
       "      <td>0</td>\n",
       "      <td>0</td>\n",
       "      <td>0</td>\n",
       "      <td>1</td>\n",
       "      <td>0</td>\n",
       "      <td>0</td>\n",
       "      <td>1</td>\n",
       "      <td>0</td>\n",
       "    </tr>\n",
       "    <tr>\n",
       "      <th>...</th>\n",
       "      <td>...</td>\n",
       "      <td>...</td>\n",
       "      <td>...</td>\n",
       "      <td>...</td>\n",
       "      <td>...</td>\n",
       "      <td>...</td>\n",
       "      <td>...</td>\n",
       "      <td>...</td>\n",
       "      <td>...</td>\n",
       "      <td>...</td>\n",
       "      <td>...</td>\n",
       "      <td>...</td>\n",
       "      <td>...</td>\n",
       "      <td>...</td>\n",
       "      <td>...</td>\n",
       "      <td>...</td>\n",
       "      <td>...</td>\n",
       "      <td>...</td>\n",
       "      <td>...</td>\n",
       "      <td>...</td>\n",
       "      <td>...</td>\n",
       "    </tr>\n",
       "    <tr>\n",
       "      <th>994</th>\n",
       "      <td>57</td>\n",
       "      <td>0</td>\n",
       "      <td>140</td>\n",
       "      <td>241</td>\n",
       "      <td>0</td>\n",
       "      <td>123</td>\n",
       "      <td>1</td>\n",
       "      <td>0.2</td>\n",
       "      <td>0</td>\n",
       "      <td>1</td>\n",
       "      <td>...</td>\n",
       "      <td>0</td>\n",
       "      <td>1</td>\n",
       "      <td>0</td>\n",
       "      <td>0</td>\n",
       "      <td>1</td>\n",
       "      <td>0</td>\n",
       "      <td>0</td>\n",
       "      <td>0</td>\n",
       "      <td>0</td>\n",
       "      <td>1</td>\n",
       "    </tr>\n",
       "    <tr>\n",
       "      <th>995</th>\n",
       "      <td>45</td>\n",
       "      <td>1</td>\n",
       "      <td>110</td>\n",
       "      <td>264</td>\n",
       "      <td>0</td>\n",
       "      <td>132</td>\n",
       "      <td>0</td>\n",
       "      <td>1.2</td>\n",
       "      <td>0</td>\n",
       "      <td>0</td>\n",
       "      <td>...</td>\n",
       "      <td>0</td>\n",
       "      <td>1</td>\n",
       "      <td>0</td>\n",
       "      <td>0</td>\n",
       "      <td>1</td>\n",
       "      <td>0</td>\n",
       "      <td>0</td>\n",
       "      <td>0</td>\n",
       "      <td>0</td>\n",
       "      <td>1</td>\n",
       "    </tr>\n",
       "    <tr>\n",
       "      <th>996</th>\n",
       "      <td>68</td>\n",
       "      <td>1</td>\n",
       "      <td>144</td>\n",
       "      <td>193</td>\n",
       "      <td>1</td>\n",
       "      <td>141</td>\n",
       "      <td>0</td>\n",
       "      <td>3.4</td>\n",
       "      <td>2</td>\n",
       "      <td>1</td>\n",
       "      <td>...</td>\n",
       "      <td>0</td>\n",
       "      <td>1</td>\n",
       "      <td>0</td>\n",
       "      <td>0</td>\n",
       "      <td>1</td>\n",
       "      <td>0</td>\n",
       "      <td>0</td>\n",
       "      <td>0</td>\n",
       "      <td>0</td>\n",
       "      <td>1</td>\n",
       "    </tr>\n",
       "    <tr>\n",
       "      <th>997</th>\n",
       "      <td>57</td>\n",
       "      <td>1</td>\n",
       "      <td>130</td>\n",
       "      <td>131</td>\n",
       "      <td>0</td>\n",
       "      <td>115</td>\n",
       "      <td>1</td>\n",
       "      <td>1.2</td>\n",
       "      <td>1</td>\n",
       "      <td>1</td>\n",
       "      <td>...</td>\n",
       "      <td>0</td>\n",
       "      <td>1</td>\n",
       "      <td>0</td>\n",
       "      <td>0</td>\n",
       "      <td>1</td>\n",
       "      <td>0</td>\n",
       "      <td>0</td>\n",
       "      <td>0</td>\n",
       "      <td>0</td>\n",
       "      <td>1</td>\n",
       "    </tr>\n",
       "    <tr>\n",
       "      <th>998</th>\n",
       "      <td>57</td>\n",
       "      <td>0</td>\n",
       "      <td>130</td>\n",
       "      <td>236</td>\n",
       "      <td>0</td>\n",
       "      <td>174</td>\n",
       "      <td>0</td>\n",
       "      <td>0.0</td>\n",
       "      <td>1</td>\n",
       "      <td>0</td>\n",
       "      <td>...</td>\n",
       "      <td>1</td>\n",
       "      <td>0</td>\n",
       "      <td>0</td>\n",
       "      <td>0</td>\n",
       "      <td>1</td>\n",
       "      <td>0</td>\n",
       "      <td>0</td>\n",
       "      <td>0</td>\n",
       "      <td>1</td>\n",
       "      <td>0</td>\n",
       "    </tr>\n",
       "  </tbody>\n",
       "</table>\n",
       "<p>999 rows × 23 columns</p>\n",
       "</div>"
      ],
      "text/plain": [
       "     age  sex  trestbps  chol  fbs  thalach  exang  oldpeak  ca  cp_0  ...  \\\n",
       "0     57    1       171   288    0      155      0      0.2   0     0  ...   \n",
       "1     56    1       129   252    1      139      1      0.6   1     0  ...   \n",
       "2     64    1       110   240    0      163      0      0.6   2     1  ...   \n",
       "3     44    1       105   211    0      149      1      3.1   0     1  ...   \n",
       "4     57    1       155   169    0      175      0      1.6   0     0  ...   \n",
       "..   ...  ...       ...   ...  ...      ...    ...      ...  ..   ...  ...   \n",
       "994   57    0       140   241    0      123      1      0.2   0     1  ...   \n",
       "995   45    1       110   264    0      132      0      1.2   0     0  ...   \n",
       "996   68    1       144   193    1      141      0      3.4   2     1  ...   \n",
       "997   57    1       130   131    0      115      1      1.2   1     1  ...   \n",
       "998   57    0       130   236    0      174      0      0.0   1     0  ...   \n",
       "\n",
       "     restecg_0  restecg_1  restecg_2  slope_0  slope_1  slope_2  thal_0  \\\n",
       "0            1          0          0        0        1        0       0   \n",
       "1            1          0          0        0        1        0       0   \n",
       "2            1          0          0        0        0        1       0   \n",
       "3            1          0          0        0        1        0       0   \n",
       "4            0          1          0        0        0        1       0   \n",
       "..         ...        ...        ...      ...      ...      ...     ...   \n",
       "994          0          1          0        0        1        0       0   \n",
       "995          0          1          0        0        1        0       0   \n",
       "996          0          1          0        0        1        0       0   \n",
       "997          0          1          0        0        1        0       0   \n",
       "998          1          0          0        0        1        0       0   \n",
       "\n",
       "     thal_1  thal_2  thal_3  \n",
       "0         0       0       1  \n",
       "1         1       0       0  \n",
       "2         1       0       0  \n",
       "3         0       1       0  \n",
       "4         0       1       0  \n",
       "..      ...     ...     ...  \n",
       "994       0       0       1  \n",
       "995       0       0       1  \n",
       "996       0       0       1  \n",
       "997       0       0       1  \n",
       "998       0       1       0  \n",
       "\n",
       "[999 rows x 23 columns]"
      ]
     },
     "execution_count": 19,
     "metadata": {},
     "output_type": "execute_result"
    }
   ],
   "source": [
    "X"
   ]
  },
  {
   "cell_type": "code",
   "execution_count": 20,
   "metadata": {},
   "outputs": [],
   "source": [
    "y = y.to_numpy()"
   ]
  },
  {
   "cell_type": "markdown",
   "metadata": {},
   "source": [
    "Skaliranje i odvajanje na skup za treniranje i testiranje."
   ]
  },
  {
   "cell_type": "code",
   "execution_count": 21,
   "metadata": {},
   "outputs": [
    {
     "data": {
      "text/html": [
       "<div>\n",
       "<style scoped>\n",
       "    .dataframe tbody tr th:only-of-type {\n",
       "        vertical-align: middle;\n",
       "    }\n",
       "\n",
       "    .dataframe tbody tr th {\n",
       "        vertical-align: top;\n",
       "    }\n",
       "\n",
       "    .dataframe thead th {\n",
       "        text-align: right;\n",
       "    }\n",
       "</style>\n",
       "<table border=\"1\" class=\"dataframe\">\n",
       "  <thead>\n",
       "    <tr style=\"text-align: right;\">\n",
       "      <th></th>\n",
       "      <th>0</th>\n",
       "      <th>1</th>\n",
       "      <th>2</th>\n",
       "      <th>3</th>\n",
       "      <th>4</th>\n",
       "      <th>5</th>\n",
       "      <th>6</th>\n",
       "      <th>7</th>\n",
       "      <th>8</th>\n",
       "      <th>9</th>\n",
       "      <th>...</th>\n",
       "      <th>13</th>\n",
       "      <th>14</th>\n",
       "      <th>15</th>\n",
       "      <th>16</th>\n",
       "      <th>17</th>\n",
       "      <th>18</th>\n",
       "      <th>19</th>\n",
       "      <th>20</th>\n",
       "      <th>21</th>\n",
       "      <th>22</th>\n",
       "    </tr>\n",
       "  </thead>\n",
       "  <tbody>\n",
       "    <tr>\n",
       "      <th>0</th>\n",
       "      <td>0.291748</td>\n",
       "      <td>0.691238</td>\n",
       "      <td>2.257030</td>\n",
       "      <td>0.873767</td>\n",
       "      <td>-0.412055</td>\n",
       "      <td>0.225464</td>\n",
       "      <td>-0.680195</td>\n",
       "      <td>-0.732008</td>\n",
       "      <td>-0.720600</td>\n",
       "      <td>-0.944482</td>\n",
       "      <td>...</td>\n",
       "      <td>1.001002</td>\n",
       "      <td>-0.975280</td>\n",
       "      <td>-0.114824</td>\n",
       "      <td>-0.248267</td>\n",
       "      <td>1.044011</td>\n",
       "      <td>-0.929412</td>\n",
       "      <td>-0.054882</td>\n",
       "      <td>-0.282843</td>\n",
       "      <td>-1.134038</td>\n",
       "      <td>1.332291</td>\n",
       "    </tr>\n",
       "    <tr>\n",
       "      <th>1</th>\n",
       "      <td>0.184001</td>\n",
       "      <td>0.691238</td>\n",
       "      <td>-0.136935</td>\n",
       "      <td>0.126462</td>\n",
       "      <td>2.426861</td>\n",
       "      <td>-0.486049</td>\n",
       "      <td>1.470167</td>\n",
       "      <td>-0.365775</td>\n",
       "      <td>0.264187</td>\n",
       "      <td>-0.944482</td>\n",
       "      <td>...</td>\n",
       "      <td>1.001002</td>\n",
       "      <td>-0.975280</td>\n",
       "      <td>-0.114824</td>\n",
       "      <td>-0.248267</td>\n",
       "      <td>1.044011</td>\n",
       "      <td>-0.929412</td>\n",
       "      <td>-0.054882</td>\n",
       "      <td>3.535534</td>\n",
       "      <td>-1.134038</td>\n",
       "      <td>-0.750587</td>\n",
       "    </tr>\n",
       "    <tr>\n",
       "      <th>2</th>\n",
       "      <td>1.045978</td>\n",
       "      <td>0.691238</td>\n",
       "      <td>-1.219919</td>\n",
       "      <td>-0.122639</td>\n",
       "      <td>-0.412055</td>\n",
       "      <td>0.581220</td>\n",
       "      <td>-0.680195</td>\n",
       "      <td>-0.365775</td>\n",
       "      <td>1.248974</td>\n",
       "      <td>1.058782</td>\n",
       "      <td>...</td>\n",
       "      <td>1.001002</td>\n",
       "      <td>-0.975280</td>\n",
       "      <td>-0.114824</td>\n",
       "      <td>-0.248267</td>\n",
       "      <td>-0.957845</td>\n",
       "      <td>1.075950</td>\n",
       "      <td>-0.054882</td>\n",
       "      <td>3.535534</td>\n",
       "      <td>-1.134038</td>\n",
       "      <td>-0.750587</td>\n",
       "    </tr>\n",
       "    <tr>\n",
       "      <th>3</th>\n",
       "      <td>-1.108965</td>\n",
       "      <td>0.691238</td>\n",
       "      <td>-1.504915</td>\n",
       "      <td>-0.724634</td>\n",
       "      <td>-0.412055</td>\n",
       "      <td>-0.041354</td>\n",
       "      <td>1.470167</td>\n",
       "      <td>1.923182</td>\n",
       "      <td>-0.720600</td>\n",
       "      <td>1.058782</td>\n",
       "      <td>...</td>\n",
       "      <td>1.001002</td>\n",
       "      <td>-0.975280</td>\n",
       "      <td>-0.114824</td>\n",
       "      <td>-0.248267</td>\n",
       "      <td>1.044011</td>\n",
       "      <td>-0.929412</td>\n",
       "      <td>-0.054882</td>\n",
       "      <td>-0.282843</td>\n",
       "      <td>0.881805</td>\n",
       "      <td>-0.750587</td>\n",
       "    </tr>\n",
       "    <tr>\n",
       "      <th>4</th>\n",
       "      <td>0.291748</td>\n",
       "      <td>0.691238</td>\n",
       "      <td>1.345043</td>\n",
       "      <td>-1.596490</td>\n",
       "      <td>-0.412055</td>\n",
       "      <td>1.114854</td>\n",
       "      <td>-0.680195</td>\n",
       "      <td>0.549808</td>\n",
       "      <td>-0.720600</td>\n",
       "      <td>-0.944482</td>\n",
       "      <td>...</td>\n",
       "      <td>-0.998999</td>\n",
       "      <td>1.025346</td>\n",
       "      <td>-0.114824</td>\n",
       "      <td>-0.248267</td>\n",
       "      <td>-0.957845</td>\n",
       "      <td>1.075950</td>\n",
       "      <td>-0.054882</td>\n",
       "      <td>-0.282843</td>\n",
       "      <td>0.881805</td>\n",
       "      <td>-0.750587</td>\n",
       "    </tr>\n",
       "    <tr>\n",
       "      <th>...</th>\n",
       "      <td>...</td>\n",
       "      <td>...</td>\n",
       "      <td>...</td>\n",
       "      <td>...</td>\n",
       "      <td>...</td>\n",
       "      <td>...</td>\n",
       "      <td>...</td>\n",
       "      <td>...</td>\n",
       "      <td>...</td>\n",
       "      <td>...</td>\n",
       "      <td>...</td>\n",
       "      <td>...</td>\n",
       "      <td>...</td>\n",
       "      <td>...</td>\n",
       "      <td>...</td>\n",
       "      <td>...</td>\n",
       "      <td>...</td>\n",
       "      <td>...</td>\n",
       "      <td>...</td>\n",
       "      <td>...</td>\n",
       "      <td>...</td>\n",
       "    </tr>\n",
       "    <tr>\n",
       "      <th>994</th>\n",
       "      <td>0.291748</td>\n",
       "      <td>-1.446679</td>\n",
       "      <td>0.490056</td>\n",
       "      <td>-0.101881</td>\n",
       "      <td>-0.412055</td>\n",
       "      <td>-1.197562</td>\n",
       "      <td>1.470167</td>\n",
       "      <td>-0.732008</td>\n",
       "      <td>-0.720600</td>\n",
       "      <td>1.058782</td>\n",
       "      <td>...</td>\n",
       "      <td>-0.998999</td>\n",
       "      <td>1.025346</td>\n",
       "      <td>-0.114824</td>\n",
       "      <td>-0.248267</td>\n",
       "      <td>1.044011</td>\n",
       "      <td>-0.929412</td>\n",
       "      <td>-0.054882</td>\n",
       "      <td>-0.282843</td>\n",
       "      <td>-1.134038</td>\n",
       "      <td>1.332291</td>\n",
       "    </tr>\n",
       "    <tr>\n",
       "      <th>995</th>\n",
       "      <td>-1.001218</td>\n",
       "      <td>0.691238</td>\n",
       "      <td>-1.219919</td>\n",
       "      <td>0.375564</td>\n",
       "      <td>-0.412055</td>\n",
       "      <td>-0.797336</td>\n",
       "      <td>-0.680195</td>\n",
       "      <td>0.183575</td>\n",
       "      <td>-0.720600</td>\n",
       "      <td>-0.944482</td>\n",
       "      <td>...</td>\n",
       "      <td>-0.998999</td>\n",
       "      <td>1.025346</td>\n",
       "      <td>-0.114824</td>\n",
       "      <td>-0.248267</td>\n",
       "      <td>1.044011</td>\n",
       "      <td>-0.929412</td>\n",
       "      <td>-0.054882</td>\n",
       "      <td>-0.282843</td>\n",
       "      <td>-1.134038</td>\n",
       "      <td>1.332291</td>\n",
       "    </tr>\n",
       "    <tr>\n",
       "      <th>996</th>\n",
       "      <td>1.476966</td>\n",
       "      <td>0.691238</td>\n",
       "      <td>0.718053</td>\n",
       "      <td>-1.098287</td>\n",
       "      <td>2.426861</td>\n",
       "      <td>-0.397110</td>\n",
       "      <td>-0.680195</td>\n",
       "      <td>2.197856</td>\n",
       "      <td>1.248974</td>\n",
       "      <td>1.058782</td>\n",
       "      <td>...</td>\n",
       "      <td>-0.998999</td>\n",
       "      <td>1.025346</td>\n",
       "      <td>-0.114824</td>\n",
       "      <td>-0.248267</td>\n",
       "      <td>1.044011</td>\n",
       "      <td>-0.929412</td>\n",
       "      <td>-0.054882</td>\n",
       "      <td>-0.282843</td>\n",
       "      <td>-1.134038</td>\n",
       "      <td>1.332291</td>\n",
       "    </tr>\n",
       "    <tr>\n",
       "      <th>997</th>\n",
       "      <td>0.291748</td>\n",
       "      <td>0.691238</td>\n",
       "      <td>-0.079936</td>\n",
       "      <td>-2.385311</td>\n",
       "      <td>-0.412055</td>\n",
       "      <td>-1.553318</td>\n",
       "      <td>1.470167</td>\n",
       "      <td>0.183575</td>\n",
       "      <td>0.264187</td>\n",
       "      <td>1.058782</td>\n",
       "      <td>...</td>\n",
       "      <td>-0.998999</td>\n",
       "      <td>1.025346</td>\n",
       "      <td>-0.114824</td>\n",
       "      <td>-0.248267</td>\n",
       "      <td>1.044011</td>\n",
       "      <td>-0.929412</td>\n",
       "      <td>-0.054882</td>\n",
       "      <td>-0.282843</td>\n",
       "      <td>-1.134038</td>\n",
       "      <td>1.332291</td>\n",
       "    </tr>\n",
       "    <tr>\n",
       "      <th>998</th>\n",
       "      <td>0.291748</td>\n",
       "      <td>-1.446679</td>\n",
       "      <td>-0.079936</td>\n",
       "      <td>-0.205673</td>\n",
       "      <td>-0.412055</td>\n",
       "      <td>1.070385</td>\n",
       "      <td>-0.680195</td>\n",
       "      <td>-0.915124</td>\n",
       "      <td>0.264187</td>\n",
       "      <td>-0.944482</td>\n",
       "      <td>...</td>\n",
       "      <td>1.001002</td>\n",
       "      <td>-0.975280</td>\n",
       "      <td>-0.114824</td>\n",
       "      <td>-0.248267</td>\n",
       "      <td>1.044011</td>\n",
       "      <td>-0.929412</td>\n",
       "      <td>-0.054882</td>\n",
       "      <td>-0.282843</td>\n",
       "      <td>0.881805</td>\n",
       "      <td>-0.750587</td>\n",
       "    </tr>\n",
       "  </tbody>\n",
       "</table>\n",
       "<p>999 rows × 23 columns</p>\n",
       "</div>"
      ],
      "text/plain": [
       "           0         1         2         3         4         5         6   \\\n",
       "0    0.291748  0.691238  2.257030  0.873767 -0.412055  0.225464 -0.680195   \n",
       "1    0.184001  0.691238 -0.136935  0.126462  2.426861 -0.486049  1.470167   \n",
       "2    1.045978  0.691238 -1.219919 -0.122639 -0.412055  0.581220 -0.680195   \n",
       "3   -1.108965  0.691238 -1.504915 -0.724634 -0.412055 -0.041354  1.470167   \n",
       "4    0.291748  0.691238  1.345043 -1.596490 -0.412055  1.114854 -0.680195   \n",
       "..        ...       ...       ...       ...       ...       ...       ...   \n",
       "994  0.291748 -1.446679  0.490056 -0.101881 -0.412055 -1.197562  1.470167   \n",
       "995 -1.001218  0.691238 -1.219919  0.375564 -0.412055 -0.797336 -0.680195   \n",
       "996  1.476966  0.691238  0.718053 -1.098287  2.426861 -0.397110 -0.680195   \n",
       "997  0.291748  0.691238 -0.079936 -2.385311 -0.412055 -1.553318  1.470167   \n",
       "998  0.291748 -1.446679 -0.079936 -0.205673 -0.412055  1.070385 -0.680195   \n",
       "\n",
       "           7         8         9   ...        13        14        15  \\\n",
       "0   -0.732008 -0.720600 -0.944482  ...  1.001002 -0.975280 -0.114824   \n",
       "1   -0.365775  0.264187 -0.944482  ...  1.001002 -0.975280 -0.114824   \n",
       "2   -0.365775  1.248974  1.058782  ...  1.001002 -0.975280 -0.114824   \n",
       "3    1.923182 -0.720600  1.058782  ...  1.001002 -0.975280 -0.114824   \n",
       "4    0.549808 -0.720600 -0.944482  ... -0.998999  1.025346 -0.114824   \n",
       "..        ...       ...       ...  ...       ...       ...       ...   \n",
       "994 -0.732008 -0.720600  1.058782  ... -0.998999  1.025346 -0.114824   \n",
       "995  0.183575 -0.720600 -0.944482  ... -0.998999  1.025346 -0.114824   \n",
       "996  2.197856  1.248974  1.058782  ... -0.998999  1.025346 -0.114824   \n",
       "997  0.183575  0.264187  1.058782  ... -0.998999  1.025346 -0.114824   \n",
       "998 -0.915124  0.264187 -0.944482  ...  1.001002 -0.975280 -0.114824   \n",
       "\n",
       "           16        17        18        19        20        21        22  \n",
       "0   -0.248267  1.044011 -0.929412 -0.054882 -0.282843 -1.134038  1.332291  \n",
       "1   -0.248267  1.044011 -0.929412 -0.054882  3.535534 -1.134038 -0.750587  \n",
       "2   -0.248267 -0.957845  1.075950 -0.054882  3.535534 -1.134038 -0.750587  \n",
       "3   -0.248267  1.044011 -0.929412 -0.054882 -0.282843  0.881805 -0.750587  \n",
       "4   -0.248267 -0.957845  1.075950 -0.054882 -0.282843  0.881805 -0.750587  \n",
       "..        ...       ...       ...       ...       ...       ...       ...  \n",
       "994 -0.248267  1.044011 -0.929412 -0.054882 -0.282843 -1.134038  1.332291  \n",
       "995 -0.248267  1.044011 -0.929412 -0.054882 -0.282843 -1.134038  1.332291  \n",
       "996 -0.248267  1.044011 -0.929412 -0.054882 -0.282843 -1.134038  1.332291  \n",
       "997 -0.248267  1.044011 -0.929412 -0.054882 -0.282843 -1.134038  1.332291  \n",
       "998 -0.248267  1.044011 -0.929412 -0.054882 -0.282843  0.881805 -0.750587  \n",
       "\n",
       "[999 rows x 23 columns]"
      ]
     },
     "execution_count": 21,
     "metadata": {},
     "output_type": "execute_result"
    }
   ],
   "source": [
    "from sklearn import preprocessing, model_selection\n",
    "\n",
    "scaler = preprocessing.StandardScaler().fit(X)\n",
    "X_scaled = scaler.transform(X)\n",
    "\n",
    "X_train, X_test, y_train, y_test = model_selection.train_test_split(X_scaled, y, test_size=0.3, random_state=42)\n",
    "    \n",
    "pd.DataFrame(X_scaled)"
   ]
  },
  {
   "cell_type": "markdown",
   "metadata": {},
   "source": [
    "Selekcija značajki nije dala mjerljivo povećanje točnosti ili smanjenje vremena izvedbe pa taj kod ostaje zakomentiran."
   ]
  },
  {
   "cell_type": "code",
   "execution_count": 22,
   "metadata": {},
   "outputs": [],
   "source": [
    "#kbest = SelectKBest(mutual_info_classif, k=15)\n",
    "#kbest.fit(X_train, y_train)\n",
    "#X_train = pd.DataFrame(X_train)\n",
    "#X_test = pd.DataFrame(X_test)\n",
    "\n",
    "#X_train_ = X_train[X_train.columns[kbest.get_support()]]\n",
    "#X_test_ = X_test[X_test.columns[kbest.get_support()]]"
   ]
  },
  {
   "cell_type": "markdown",
   "metadata": {},
   "source": [
    "## Učenje i predikcija"
   ]
  },
  {
   "cell_type": "markdown",
   "metadata": {},
   "source": [
    "Funkcija za evaluaciju modela."
   ]
  },
  {
   "cell_type": "code",
   "execution_count": 23,
   "metadata": {},
   "outputs": [],
   "source": [
    "from sklearn.metrics import accuracy_score, classification_report, confusion_matrix\n",
    "\n",
    "def show_metrics(y_true, y_pred):\n",
    "    print('Accuracy: {:.2f}%\\n'.format(accuracy_score(y_true, y_pred) * 100))\n",
    "    print(classification_report(y_true, y_pred))\n",
    "    \n",
    "    #sns.heatmap(confusion_matrix(y_test, y_pred), annot=True, cmap='Blues', fmt='g')\n",
    "    ax= plt.subplot()\n",
    "    sns.heatmap(confusion_matrix(y_test, y_pred), annot=True, fmt='g', cmap='Blues', ax=ax);\n",
    "    \n",
    "    ax.set_xlabel('Predicted labels');\n",
    "    ax.set_ylabel('True labels');  \n",
    "    ax.xaxis.set_ticklabels(['no HD', 'HD']);\n",
    "    ax.yaxis.set_ticklabels(['no HD', 'HD']);\n",
    "    "
   ]
  },
  {
   "cell_type": "markdown",
   "metadata": {},
   "source": [
    "Funkcija za k-fold evaluaciju."
   ]
  },
  {
   "cell_type": "code",
   "execution_count": 24,
   "metadata": {},
   "outputs": [],
   "source": [
    "from sklearn.model_selection import KFold\n",
    "\n",
    "def kfold_eval(model, X, y, k=10):\n",
    "    \n",
    "    kf = KFold(n_splits=k, shuffle=True)\n",
    " \n",
    "    acc_score = []\n",
    " \n",
    "    for train_index, test_index in kf.split(X):\n",
    "        X_train , X_test = X[train_index], X[test_index]\n",
    "        y_train , y_test = y[train_index], y[test_index]\n",
    "     \n",
    "        model.fit(X_train, y_train)\n",
    "        y_pred = model.predict(X_test)\n",
    "     \n",
    "        acc = accuracy_score(y_test, y_pred)\n",
    "        acc_score.append(acc)\n",
    "     \n",
    "    avg_acc_score = sum(acc_score)/k\n",
    " \n",
    "    # print('accuracy of each fold - {}'.format(acc_score))\n",
    "    print('{}-fold avg accuracy: {:.2f}%'.format(k, avg_acc_score * 100))"
   ]
  },
  {
   "cell_type": "markdown",
   "metadata": {},
   "source": [
    "### Stabla odluke"
   ]
  },
  {
   "cell_type": "code",
   "execution_count": 25,
   "metadata": {},
   "outputs": [
    {
     "name": "stdout",
     "output_type": "stream",
     "text": [
      "10-fold avg accuracy: 96.20%\n",
      "Accuracy: 96.00%\n",
      "\n",
      "              precision    recall  f1-score   support\n",
      "\n",
      "           0       0.97      0.94      0.96       144\n",
      "           1       0.95      0.97      0.96       156\n",
      "\n",
      "    accuracy                           0.96       300\n",
      "   macro avg       0.96      0.96      0.96       300\n",
      "weighted avg       0.96      0.96      0.96       300\n",
      "\n"
     ]
    },
    {
     "data": {
      "image/png": "[encoded data removed]",
      "text/plain": [
       "<Figure size 432x288 with 2 Axes>"
      ]
     },
     "metadata": {
      "needs_background": "light"
     },
     "output_type": "display_data"
    }
   ],
   "source": [
    "from sklearn.tree import DecisionTreeClassifier\n",
    "\n",
    "tree_model = DecisionTreeClassifier()\n",
    "tree_model.fit(X_train, y_train)\n",
    "y_pred = tree_model.predict(X_test)\n",
    "\n",
    "kfold_eval(tree_model, X_scaled, y)\n",
    "show_metrics(y_test, y_pred)"
   ]
  },
  {
   "cell_type": "markdown",
   "metadata": {},
   "source": [
    "### Naivna Bayesova klasifikacija"
   ]
  },
  {
   "cell_type": "code",
   "execution_count": 26,
   "metadata": {},
   "outputs": [
    {
     "name": "stdout",
     "output_type": "stream",
     "text": [
      "10-fold avg accuracy: 83.38%\n",
      "Accuracy: 85.33%\n",
      "\n",
      "              precision    recall  f1-score   support\n",
      "\n",
      "           0       0.86      0.83      0.85       144\n",
      "           1       0.85      0.87      0.86       156\n",
      "\n",
      "    accuracy                           0.85       300\n",
      "   macro avg       0.85      0.85      0.85       300\n",
      "weighted avg       0.85      0.85      0.85       300\n",
      "\n"
     ]
    },
    {
     "data": {
      "image/png": "[encoded data removed]",
      "text/plain": [
       "<Figure size 432x288 with 2 Axes>"
      ]
     },
     "metadata": {
      "needs_background": "light"
     },
     "output_type": "display_data"
    }
   ],
   "source": [
    "from sklearn.naive_bayes import GaussianNB\n",
    "\n",
    "nb_model = GaussianNB()\n",
    "nb_model.fit(X_train, y_train)\n",
    "y_pred = nb_model.predict(X_test)\n",
    "\n",
    "kfold_eval(nb_model, X_scaled, y)\n",
    "show_metrics(y_test, y_pred)"
   ]
  },
  {
   "cell_type": "markdown",
   "metadata": {},
   "source": [
    "### Random Forest"
   ]
  },
  {
   "cell_type": "code",
   "execution_count": 27,
   "metadata": {},
   "outputs": [
    {
     "name": "stdout",
     "output_type": "stream",
     "text": [
      "10-fold avg accuracy: 98.50%\n",
      "Accuracy: 97.33%\n",
      "\n",
      "              precision    recall  f1-score   support\n",
      "\n",
      "           0       0.99      0.96      0.97       144\n",
      "           1       0.96      0.99      0.97       156\n",
      "\n",
      "    accuracy                           0.97       300\n",
      "   macro avg       0.97      0.97      0.97       300\n",
      "weighted avg       0.97      0.97      0.97       300\n",
      "\n"
     ]
    },
    {
     "data": {
      "image/png": "[encoded data removed]",
      "text/plain": [
       "<Figure size 432x288 with 2 Axes>"
      ]
     },
     "metadata": {
      "needs_background": "light"
     },
     "output_type": "display_data"
    }
   ],
   "source": [
    "from sklearn.ensemble import RandomForestClassifier\n",
    "\n",
    "rf_model = RandomForestClassifier()\n",
    "rf_model.fit(X_train, y_train)\n",
    "y_pred = rf_model.predict(X_test)\n",
    "\n",
    "kfold_eval(rf_model, X_scaled, y)\n",
    "show_metrics(y_test, y_pred)"
   ]
  },
  {
   "cell_type": "markdown",
   "metadata": {},
   "source": [
    "### Logistička regresija"
   ]
  },
  {
   "cell_type": "code",
   "execution_count": 28,
   "metadata": {},
   "outputs": [
    {
     "name": "stdout",
     "output_type": "stream",
     "text": [
      "10-fold avg accuracy: 85.89%\n",
      "Accuracy: 84.00%\n",
      "\n",
      "              precision    recall  f1-score   support\n",
      "\n",
      "           0       0.88      0.78      0.82       144\n",
      "           1       0.81      0.90      0.85       156\n",
      "\n",
      "    accuracy                           0.84       300\n",
      "   macro avg       0.84      0.84      0.84       300\n",
      "weighted avg       0.84      0.84      0.84       300\n",
      "\n"
     ]
    },
    {
     "data": {
      "image/png": "[encoded data removed]",
      "text/plain": [
       "<Figure size 432x288 with 2 Axes>"
      ]
     },
     "metadata": {
      "needs_background": "light"
     },
     "output_type": "display_data"
    }
   ],
   "source": [
    "from sklearn.linear_model import LogisticRegression\n",
    "\n",
    "lr_model = LogisticRegression(solver='liblinear')\n",
    "lr_model.fit(X_train, y_train)\n",
    "y_pred = lr_model.predict(X_test)\n",
    "\n",
    "kfold_eval(lr_model, X_scaled, y)\n",
    "show_metrics(y_test, y_pred)"
   ]
  },
  {
   "cell_type": "markdown",
   "metadata": {},
   "source": [
    "### SVM"
   ]
  },
  {
   "cell_type": "code",
   "execution_count": 29,
   "metadata": {},
   "outputs": [
    {
     "name": "stdout",
     "output_type": "stream",
     "text": [
      "10-fold avg accuracy: 93.29%\n",
      "Accuracy: 93.33%\n",
      "\n",
      "              precision    recall  f1-score   support\n",
      "\n",
      "           0       0.95      0.91      0.93       144\n",
      "           1       0.92      0.96      0.94       156\n",
      "\n",
      "    accuracy                           0.93       300\n",
      "   macro avg       0.93      0.93      0.93       300\n",
      "weighted avg       0.93      0.93      0.93       300\n",
      "\n"
     ]
    },
    {
     "data": {
      "image/png": "[encoded data removed]",
      "text/plain": [
       "<Figure size 432x288 with 2 Axes>"
      ]
     },
     "metadata": {
      "needs_background": "light"
     },
     "output_type": "display_data"
    }
   ],
   "source": [
    "from sklearn.svm import SVC\n",
    "\n",
    "svm_model = SVC(C=1)\n",
    "svm_model.fit(X_train, y_train)\n",
    "y_pred = svm_model.predict(X_test)\n",
    "\n",
    "kfold_eval(svm_model, X_scaled, y)\n",
    "show_metrics(y_test, y_pred)"
   ]
  },
  {
   "cell_type": "markdown",
   "metadata": {},
   "source": [
    "SVM uz C=10 (konstantu koja utječe na regularizaciju; veća vrijednost -> manja regularizacija)"
   ]
  },
  {
   "cell_type": "code",
   "execution_count": 30,
   "metadata": {},
   "outputs": [
    {
     "name": "stdout",
     "output_type": "stream",
     "text": [
      "10-fold avg accuracy: 98.10%\n",
      "Accuracy: 97.00%\n",
      "\n",
      "              precision    recall  f1-score   support\n",
      "\n",
      "           0       0.97      0.97      0.97       144\n",
      "           1       0.97      0.97      0.97       156\n",
      "\n",
      "    accuracy                           0.97       300\n",
      "   macro avg       0.97      0.97      0.97       300\n",
      "weighted avg       0.97      0.97      0.97       300\n",
      "\n"
     ]
    },
    {
     "data": {
      "image/png": "[encoded data removed]",
      "text/plain": [
       "<Figure size 432x288 with 2 Axes>"
      ]
     },
     "metadata": {
      "needs_background": "light"
     },
     "output_type": "display_data"
    }
   ],
   "source": [
    "svm_model = SVC(C=10)\n",
    "svm_model.fit(X_train, y_train)\n",
    "y_pred = svm_model.predict(X_test)\n",
    "\n",
    "kfold_eval(svm_model, X_scaled, y)\n",
    "show_metrics(y_test, y_pred)"
   ]
  },
  {
   "cell_type": "markdown",
   "metadata": {},
   "source": [
    "### Zaključak"
   ]
  },
  {
   "cell_type": "markdown",
   "metadata": {},
   "source": [
    "Rekreiranjem postupaka iz članka dobio sam slijedeće rezultate:\n",
    " - Stabla odluke -> dobivena točnost oko 96%, točnost iz članka 93.19%\n",
    " - Naivna Bayesova klasifikacija -> dobivena točnost oko 84%, točnost iz članka 87.27%\n",
    " - Random Forest -> dobivena točnost oko 98%, točnost iz članka 89.14%\n",
    " - Logistička regresija -> dobivena točnost oko 86.5%, točnost iz članka 87.36%\n",
    " - SVM (C=1) -> dobivena točnost oko 93%, točnost iz članka 92.30%\n",
    " - SVM (C=10) -> dobivena točnost oko 98%, točnost iz članka 92.30%"
   ]
  },
  {
   "cell_type": "markdown",
   "metadata": {},
   "source": [
    "Razultati više-manje odgovaraju rezultatima iz članka osim u slučajevima sa Random Forest klasifikatorom i SVM klasifikatorom uz konstantu C=10 gdje u oba slučajeva dobivam poprilično veću točnost.\n",
    "\n",
    "Sumnjam na to kako se točnost korištenih modela u članku pogrešno evaluirala ako je dataset podijeljen na train i test tek nakon stvaranja sintetičkih podataka. Ovo bi značilo da su podaci iz podskupa za testiranje također utjecali i na primjere iz podskupa za treniranje te to potencijalno objašnjava poprilično veću postignutu točnost u odnosu na prijašnje članke koji su koristili isti dataset.\n",
    "\n",
    "Smatram kako bi rješenje ovoga problema bilo uključiti cijeli Heart Failure Prediction Dataset koji ukupno uključuje 918 primjera te odmah na početku podijeliti dataset na skup za učenje i skup za treniranje. Nakon te podjele mogu se SAMO od primjera za treniranje napraviti dodatni sintetički podaci kako oni ne bi \"sličili\" na testne primjere."
   ]
  }
 ],
 "metadata": {
  "kernelspec": {
   "display_name": "Python 3 (ipykernel)",
   "language": "python",
   "name": "python3"
  },
  "language_info": {
   "codemirror_mode": {
    "name": "ipython",
    "version": 3
   },
   "file_extension": ".py",
   "mimetype": "text/x-python",
   "name": "python",
   "nbconvert_exporter": "python",
   "pygments_lexer": "ipython3",
   "version": "3.8.0"
  }
 },
 "nbformat": 4,
 "nbformat_minor": 4
}
