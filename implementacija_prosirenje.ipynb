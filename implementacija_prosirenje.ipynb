{
 "cells": [
  {
   "cell_type": "markdown",
   "metadata": {},
   "source": [
    "Jakov Rukavina"
   ]
  },
  {
   "cell_type": "markdown",
   "metadata": {
    "raw_mimetype": "text/markdown"
   },
   "source": [
    "# Projekt\n",
    "\n",
    "Implementacija članka \"Implementation of Machine Learning Model to Predict Heart Failure Disease\" u sklopu projekta na predmetu Uvod u znanost o podacima.\n",
    "\n",
    "Članak je dostupan na linku: https://pdfs.semanticscholar.org/a74f/d8c51251e8c6126a1527e545bd78860a10f9.pdf\n"
   ]
  },
  {
   "cell_type": "markdown",
   "metadata": {},
   "source": [
    "## Vrsta istraživanja u članku"
   ]
  },
  {
   "cell_type": "markdown",
   "metadata": {},
   "source": [
    "Istraživanje možemo klasificirati prema:\n",
    " - svrsi: primijenjeno istraživanje - u članku se koriste već postojeće i dobro poznate metode kako bi se poboljšali rezultati prijašnjih istraživanja na ovu temu\n",
    " - dubini: istraživačko (exploratory) istraživanje - članak se fokusira na obradu javno dostupnih medicinskih podataka kako bi se objasnila veza između određenih značajki (koje opisuju stanje pacijenta) te zatajenja srca\n",
    " - vrsti korištenih podataka: kvantitativno istraživanje - većina podataka u korištenom skupu dobivena su medicinskim mjerenjima\n",
    " - stupnju manipulacije varijablama: promatračko istraživanje - varijable se ne mijenjaju već se koriste one koje su dobivene mjerenjem (promatranjem)\n",
    " - vrsti zaključka: induktivno istraživanje - znanje se generira zaključivanjem radi postizanja generalizacije\n",
    " - vremenu provedbe: studija presjeka - promatraju se trenutna stanja skupine pacijenata\n",
    " - izvoru informacija: sekundarno istraživanje - istraživači nisu sami prikupili podatke već su koristi javno dostupan skup\n",
    " - načinu prikupljanja podataka: laboratorijsko istraživanje - uspostavlja se odnos bolesti zatajenja srca i drugih značajki\n"
   ]
  },
  {
   "cell_type": "markdown",
   "metadata": {},
   "source": [
    "## Importi biblioteka"
   ]
  },
  {
   "cell_type": "code",
   "execution_count": 1,
   "metadata": {
    "scrolled": false
   },
   "outputs": [],
   "source": [
    "import numpy as np\n",
    "import pandas as pd\n",
    "import matplotlib.pyplot as plt\n",
    "import seaborn as sns\n",
    "import sklearn\n",
    "import random"
   ]
  },
  {
   "cell_type": "markdown",
   "metadata": {},
   "source": [
    "## Podaci"
   ]
  },
  {
   "cell_type": "markdown",
   "metadata": {},
   "source": [
    "### Pregled podataka\n",
    "\n"
   ]
  },
  {
   "cell_type": "markdown",
   "metadata": {},
   "source": [
    "Skup podataka korišten u članku sastoji se od 13 značajki i jedne oznake. Ukupno sadrži 303 opservacije odnosno očitanja stanja pacijenata te je dostupan na https://www.kaggle.com/ronitf/heart-disease-uci.\n",
    "\n",
    "Orginalni skup podataka sadrži 76 značajki no iz njega su izbačeni razni podaci poput onih privatnih (ime pacijenta itd.). "
   ]
  },
  {
   "cell_type": "markdown",
   "metadata": {},
   "source": [
    "Opis značajki u skupu podataka:\n",
    "    \n",
    " - age: The person’s age in years\n",
    " - sex: The person’s sex (1 = male, 0 = female)\n",
    " - cp: chest pain type\n",
    "        — Value 0: asymptomatic\n",
    "        — Value 1: atypical angina\n",
    "        — Value 2: non-anginal pain\n",
    "        — Value 3: typical angina\n",
    " - trestbps: The person’s resting blood pressure (mm Hg on admission to the hospital)\n",
    " - chol: The person’s cholesterol measurement in mg/dl\n",
    " - fbs: The person’s fasting blood sugar (> 120 mg/dl, 1 = true; 0 = false)\n",
    " - restecg: resting electrocardiographic results\n",
    "        — Value 0: showing probable or definite left ventricular hypertrophy by Estes’ criteria\n",
    "        — Value 1: normal\n",
    "        — Value 2: having ST-T wave abnormality (T wave inversions and/or ST elevation or depression of > 0.05 mV)\n",
    " - thalach: The person’s maximum heart rate achieved\n",
    " - exang: Exercise induced angina (1 = yes; 0 = no)\n",
    " - oldpeak: ST depression induced by exercise relative to rest (‘ST’ relates to positions on the ECG plot.)\n",
    " - slope: the slope of the peak exercise ST segment\n",
    "        — Value 0: downsloping\n",
    "        — Value 1: flat\n",
    "        — Value 2: upsloping\n",
    " - ca: The number of major vessels (0–3)\n",
    " - thal: A blood disorder called thalassemia\n",
    "        — Value 0: NULL (dropped from the dataset previously\n",
    "        — Value 1: fixed defect (no blood flow in some part of the heart)\n",
    "        — Value 2: normal blood flow\n",
    "        — Value 3: reversible defect (a blood flow is observed but it is not normal)\n",
    " - target: Heart disease (1 = yes, 0 = no)"
   ]
  },
  {
   "cell_type": "markdown",
   "metadata": {},
   "source": [
    "Učitavanje .csv filea"
   ]
  },
  {
   "cell_type": "code",
   "execution_count": 2,
   "metadata": {
    "scrolled": false
   },
   "outputs": [],
   "source": [
    "file = 'data/heart_cleveland.csv'\n",
    "# file = 'data/heart.csv'\n",
    "df = pd.read_csv(file)"
   ]
  },
  {
   "cell_type": "markdown",
   "metadata": {},
   "source": [
    "\n",
    "Prvi pregled podataka"
   ]
  },
  {
   "cell_type": "code",
   "execution_count": 3,
   "metadata": {
    "scrolled": false
   },
   "outputs": [
    {
     "data": {
      "text/html": [
       "<div>\n",
       "<style scoped>\n",
       "    .dataframe tbody tr th:only-of-type {\n",
       "        vertical-align: middle;\n",
       "    }\n",
       "\n",
       "    .dataframe tbody tr th {\n",
       "        vertical-align: top;\n",
       "    }\n",
       "\n",
       "    .dataframe thead th {\n",
       "        text-align: right;\n",
       "    }\n",
       "</style>\n",
       "<table border=\"1\" class=\"dataframe\">\n",
       "  <thead>\n",
       "    <tr style=\"text-align: right;\">\n",
       "      <th></th>\n",
       "      <th>age</th>\n",
       "      <th>sex</th>\n",
       "      <th>cp</th>\n",
       "      <th>trestbps</th>\n",
       "      <th>chol</th>\n",
       "      <th>fbs</th>\n",
       "      <th>restecg</th>\n",
       "      <th>thalach</th>\n",
       "      <th>exang</th>\n",
       "      <th>oldpeak</th>\n",
       "      <th>slope</th>\n",
       "      <th>ca</th>\n",
       "      <th>thal</th>\n",
       "      <th>target</th>\n",
       "    </tr>\n",
       "  </thead>\n",
       "  <tbody>\n",
       "    <tr>\n",
       "      <th>0</th>\n",
       "      <td>63</td>\n",
       "      <td>1</td>\n",
       "      <td>3</td>\n",
       "      <td>145</td>\n",
       "      <td>233</td>\n",
       "      <td>1</td>\n",
       "      <td>0</td>\n",
       "      <td>150</td>\n",
       "      <td>0</td>\n",
       "      <td>2.3</td>\n",
       "      <td>0</td>\n",
       "      <td>0</td>\n",
       "      <td>1</td>\n",
       "      <td>1</td>\n",
       "    </tr>\n",
       "    <tr>\n",
       "      <th>1</th>\n",
       "      <td>37</td>\n",
       "      <td>1</td>\n",
       "      <td>2</td>\n",
       "      <td>130</td>\n",
       "      <td>250</td>\n",
       "      <td>0</td>\n",
       "      <td>1</td>\n",
       "      <td>187</td>\n",
       "      <td>0</td>\n",
       "      <td>3.5</td>\n",
       "      <td>0</td>\n",
       "      <td>0</td>\n",
       "      <td>2</td>\n",
       "      <td>1</td>\n",
       "    </tr>\n",
       "    <tr>\n",
       "      <th>2</th>\n",
       "      <td>41</td>\n",
       "      <td>0</td>\n",
       "      <td>1</td>\n",
       "      <td>130</td>\n",
       "      <td>204</td>\n",
       "      <td>0</td>\n",
       "      <td>0</td>\n",
       "      <td>172</td>\n",
       "      <td>0</td>\n",
       "      <td>1.4</td>\n",
       "      <td>2</td>\n",
       "      <td>0</td>\n",
       "      <td>2</td>\n",
       "      <td>1</td>\n",
       "    </tr>\n",
       "    <tr>\n",
       "      <th>3</th>\n",
       "      <td>56</td>\n",
       "      <td>1</td>\n",
       "      <td>1</td>\n",
       "      <td>120</td>\n",
       "      <td>236</td>\n",
       "      <td>0</td>\n",
       "      <td>1</td>\n",
       "      <td>178</td>\n",
       "      <td>0</td>\n",
       "      <td>0.8</td>\n",
       "      <td>2</td>\n",
       "      <td>0</td>\n",
       "      <td>2</td>\n",
       "      <td>1</td>\n",
       "    </tr>\n",
       "    <tr>\n",
       "      <th>4</th>\n",
       "      <td>57</td>\n",
       "      <td>0</td>\n",
       "      <td>0</td>\n",
       "      <td>120</td>\n",
       "      <td>354</td>\n",
       "      <td>0</td>\n",
       "      <td>1</td>\n",
       "      <td>163</td>\n",
       "      <td>1</td>\n",
       "      <td>0.6</td>\n",
       "      <td>2</td>\n",
       "      <td>0</td>\n",
       "      <td>2</td>\n",
       "      <td>1</td>\n",
       "    </tr>\n",
       "  </tbody>\n",
       "</table>\n",
       "</div>"
      ],
      "text/plain": [
       "   age  sex  cp  trestbps  chol  fbs  restecg  thalach  exang  oldpeak  slope  \\\n",
       "0   63    1   3       145   233    1        0      150      0      2.3      0   \n",
       "1   37    1   2       130   250    0        1      187      0      3.5      0   \n",
       "2   41    0   1       130   204    0        0      172      0      1.4      2   \n",
       "3   56    1   1       120   236    0        1      178      0      0.8      2   \n",
       "4   57    0   0       120   354    0        1      163      1      0.6      2   \n",
       "\n",
       "   ca  thal  target  \n",
       "0   0     1       1  \n",
       "1   0     2       1  \n",
       "2   0     2       1  \n",
       "3   0     2       1  \n",
       "4   0     2       1  "
      ]
     },
     "execution_count": 3,
     "metadata": {},
     "output_type": "execute_result"
    }
   ],
   "source": [
    "df.head()"
   ]
  },
  {
   "cell_type": "markdown",
   "metadata": {},
   "source": [
    "Pregled kategoričkih podataka."
   ]
  },
  {
   "cell_type": "code",
   "execution_count": 4,
   "metadata": {
    "scrolled": false
   },
   "outputs": [
    {
     "data": {
      "image/png": "[encoded data removed]",
      "text/plain": [
       "<Figure size 1080x720 with 9 Axes>"
      ]
     },
     "metadata": {
      "needs_background": "light"
     },
     "output_type": "display_data"
    }
   ],
   "source": [
    "fig, ax = plt.subplots(3, 3, figsize=(15,10))\n",
    "\n",
    "ax[0, 0].hist(df.sex)\n",
    "ax[0, 0].title.set_text('sex')\n",
    "\n",
    "ax[0, 1].hist(df.cp)\n",
    "ax[0, 1].title.set_text('cp')\n",
    "\n",
    "ax[0, 2].hist(df.fbs)\n",
    "ax[0, 2].title.set_text('fbs')\n",
    "\n",
    "ax[1, 0].hist(df.restecg)\n",
    "ax[1, 0].title.set_text('restecg')\n",
    "\n",
    "ax[1, 1].hist(df.exang)\n",
    "ax[1, 1].title.set_text('exang')\n",
    "\n",
    "ax[1, 2].hist(df.slope)\n",
    "ax[1, 2].title.set_text('slope')\n",
    "\n",
    "ax[2, 0].hist(df.ca)\n",
    "ax[2, 0].title.set_text('ca')\n",
    "\n",
    "ax[2, 1].hist(df.thal)\n",
    "ax[2, 1].title.set_text('thal')\n",
    "\n",
    "ax[2, 2].hist(df.target)\n",
    "ax[2, 2].title.set_text('target')\n",
    "\n",
    "plt.show()"
   ]
  },
  {
   "cell_type": "code",
   "execution_count": 5,
   "metadata": {
    "scrolled": false
   },
   "outputs": [
    {
     "data": {
      "text/html": [
       "<div>\n",
       "<style scoped>\n",
       "    .dataframe tbody tr th:only-of-type {\n",
       "        vertical-align: middle;\n",
       "    }\n",
       "\n",
       "    .dataframe tbody tr th {\n",
       "        vertical-align: top;\n",
       "    }\n",
       "\n",
       "    .dataframe thead th {\n",
       "        text-align: right;\n",
       "    }\n",
       "</style>\n",
       "<table border=\"1\" class=\"dataframe\">\n",
       "  <thead>\n",
       "    <tr style=\"text-align: right;\">\n",
       "      <th></th>\n",
       "      <th>age</th>\n",
       "      <th>sex</th>\n",
       "      <th>cp</th>\n",
       "      <th>trestbps</th>\n",
       "      <th>chol</th>\n",
       "      <th>fbs</th>\n",
       "      <th>restecg</th>\n",
       "      <th>thalach</th>\n",
       "      <th>exang</th>\n",
       "      <th>oldpeak</th>\n",
       "      <th>slope</th>\n",
       "      <th>ca</th>\n",
       "      <th>thal</th>\n",
       "      <th>target</th>\n",
       "    </tr>\n",
       "  </thead>\n",
       "  <tbody>\n",
       "    <tr>\n",
       "      <th>count</th>\n",
       "      <td>303.000000</td>\n",
       "      <td>303.000000</td>\n",
       "      <td>303.000000</td>\n",
       "      <td>303.000000</td>\n",
       "      <td>303.000000</td>\n",
       "      <td>303.000000</td>\n",
       "      <td>303.000000</td>\n",
       "      <td>303.000000</td>\n",
       "      <td>303.000000</td>\n",
       "      <td>303.000000</td>\n",
       "      <td>303.000000</td>\n",
       "      <td>303.000000</td>\n",
       "      <td>303.000000</td>\n",
       "      <td>303.000000</td>\n",
       "    </tr>\n",
       "    <tr>\n",
       "      <th>mean</th>\n",
       "      <td>54.366337</td>\n",
       "      <td>0.683168</td>\n",
       "      <td>0.966997</td>\n",
       "      <td>131.623762</td>\n",
       "      <td>246.264026</td>\n",
       "      <td>0.148515</td>\n",
       "      <td>0.528053</td>\n",
       "      <td>149.646865</td>\n",
       "      <td>0.326733</td>\n",
       "      <td>1.039604</td>\n",
       "      <td>1.399340</td>\n",
       "      <td>0.729373</td>\n",
       "      <td>2.313531</td>\n",
       "      <td>0.544554</td>\n",
       "    </tr>\n",
       "    <tr>\n",
       "      <th>std</th>\n",
       "      <td>9.082101</td>\n",
       "      <td>0.466011</td>\n",
       "      <td>1.032052</td>\n",
       "      <td>17.538143</td>\n",
       "      <td>51.830751</td>\n",
       "      <td>0.356198</td>\n",
       "      <td>0.525860</td>\n",
       "      <td>22.905161</td>\n",
       "      <td>0.469794</td>\n",
       "      <td>1.161075</td>\n",
       "      <td>0.616226</td>\n",
       "      <td>1.022606</td>\n",
       "      <td>0.612277</td>\n",
       "      <td>0.498835</td>\n",
       "    </tr>\n",
       "    <tr>\n",
       "      <th>min</th>\n",
       "      <td>29.000000</td>\n",
       "      <td>0.000000</td>\n",
       "      <td>0.000000</td>\n",
       "      <td>94.000000</td>\n",
       "      <td>126.000000</td>\n",
       "      <td>0.000000</td>\n",
       "      <td>0.000000</td>\n",
       "      <td>71.000000</td>\n",
       "      <td>0.000000</td>\n",
       "      <td>0.000000</td>\n",
       "      <td>0.000000</td>\n",
       "      <td>0.000000</td>\n",
       "      <td>0.000000</td>\n",
       "      <td>0.000000</td>\n",
       "    </tr>\n",
       "    <tr>\n",
       "      <th>25%</th>\n",
       "      <td>47.500000</td>\n",
       "      <td>0.000000</td>\n",
       "      <td>0.000000</td>\n",
       "      <td>120.000000</td>\n",
       "      <td>211.000000</td>\n",
       "      <td>0.000000</td>\n",
       "      <td>0.000000</td>\n",
       "      <td>133.500000</td>\n",
       "      <td>0.000000</td>\n",
       "      <td>0.000000</td>\n",
       "      <td>1.000000</td>\n",
       "      <td>0.000000</td>\n",
       "      <td>2.000000</td>\n",
       "      <td>0.000000</td>\n",
       "    </tr>\n",
       "    <tr>\n",
       "      <th>50%</th>\n",
       "      <td>55.000000</td>\n",
       "      <td>1.000000</td>\n",
       "      <td>1.000000</td>\n",
       "      <td>130.000000</td>\n",
       "      <td>240.000000</td>\n",
       "      <td>0.000000</td>\n",
       "      <td>1.000000</td>\n",
       "      <td>153.000000</td>\n",
       "      <td>0.000000</td>\n",
       "      <td>0.800000</td>\n",
       "      <td>1.000000</td>\n",
       "      <td>0.000000</td>\n",
       "      <td>2.000000</td>\n",
       "      <td>1.000000</td>\n",
       "    </tr>\n",
       "    <tr>\n",
       "      <th>75%</th>\n",
       "      <td>61.000000</td>\n",
       "      <td>1.000000</td>\n",
       "      <td>2.000000</td>\n",
       "      <td>140.000000</td>\n",
       "      <td>274.500000</td>\n",
       "      <td>0.000000</td>\n",
       "      <td>1.000000</td>\n",
       "      <td>166.000000</td>\n",
       "      <td>1.000000</td>\n",
       "      <td>1.600000</td>\n",
       "      <td>2.000000</td>\n",
       "      <td>1.000000</td>\n",
       "      <td>3.000000</td>\n",
       "      <td>1.000000</td>\n",
       "    </tr>\n",
       "    <tr>\n",
       "      <th>max</th>\n",
       "      <td>77.000000</td>\n",
       "      <td>1.000000</td>\n",
       "      <td>3.000000</td>\n",
       "      <td>200.000000</td>\n",
       "      <td>564.000000</td>\n",
       "      <td>1.000000</td>\n",
       "      <td>2.000000</td>\n",
       "      <td>202.000000</td>\n",
       "      <td>1.000000</td>\n",
       "      <td>6.200000</td>\n",
       "      <td>2.000000</td>\n",
       "      <td>4.000000</td>\n",
       "      <td>3.000000</td>\n",
       "      <td>1.000000</td>\n",
       "    </tr>\n",
       "  </tbody>\n",
       "</table>\n",
       "</div>"
      ],
      "text/plain": [
       "              age         sex          cp    trestbps        chol         fbs  \\\n",
       "count  303.000000  303.000000  303.000000  303.000000  303.000000  303.000000   \n",
       "mean    54.366337    0.683168    0.966997  131.623762  246.264026    0.148515   \n",
       "std      9.082101    0.466011    1.032052   17.538143   51.830751    0.356198   \n",
       "min     29.000000    0.000000    0.000000   94.000000  126.000000    0.000000   \n",
       "25%     47.500000    0.000000    0.000000  120.000000  211.000000    0.000000   \n",
       "50%     55.000000    1.000000    1.000000  130.000000  240.000000    0.000000   \n",
       "75%     61.000000    1.000000    2.000000  140.000000  274.500000    0.000000   \n",
       "max     77.000000    1.000000    3.000000  200.000000  564.000000    1.000000   \n",
       "\n",
       "          restecg     thalach       exang     oldpeak       slope          ca  \\\n",
       "count  303.000000  303.000000  303.000000  303.000000  303.000000  303.000000   \n",
       "mean     0.528053  149.646865    0.326733    1.039604    1.399340    0.729373   \n",
       "std      0.525860   22.905161    0.469794    1.161075    0.616226    1.022606   \n",
       "min      0.000000   71.000000    0.000000    0.000000    0.000000    0.000000   \n",
       "25%      0.000000  133.500000    0.000000    0.000000    1.000000    0.000000   \n",
       "50%      1.000000  153.000000    0.000000    0.800000    1.000000    0.000000   \n",
       "75%      1.000000  166.000000    1.000000    1.600000    2.000000    1.000000   \n",
       "max      2.000000  202.000000    1.000000    6.200000    2.000000    4.000000   \n",
       "\n",
       "             thal      target  \n",
       "count  303.000000  303.000000  \n",
       "mean     2.313531    0.544554  \n",
       "std      0.612277    0.498835  \n",
       "min      0.000000    0.000000  \n",
       "25%      2.000000    0.000000  \n",
       "50%      2.000000    1.000000  \n",
       "75%      3.000000    1.000000  \n",
       "max      3.000000    1.000000  "
      ]
     },
     "execution_count": 5,
     "metadata": {},
     "output_type": "execute_result"
    }
   ],
   "source": [
    "df.describe()"
   ]
  },
  {
   "cell_type": "code",
   "execution_count": 6,
   "metadata": {
    "scrolled": true
   },
   "outputs": [
    {
     "name": "stdout",
     "output_type": "stream",
     "text": [
      "<class 'pandas.core.frame.DataFrame'>\n",
      "RangeIndex: 303 entries, 0 to 302\n",
      "Data columns (total 14 columns):\n",
      " #   Column    Non-Null Count  Dtype  \n",
      "---  ------    --------------  -----  \n",
      " 0   age       303 non-null    int64  \n",
      " 1   sex       303 non-null    int64  \n",
      " 2   cp        303 non-null    int64  \n",
      " 3   trestbps  303 non-null    int64  \n",
      " 4   chol      303 non-null    int64  \n",
      " 5   fbs       303 non-null    int64  \n",
      " 6   restecg   303 non-null    int64  \n",
      " 7   thalach   303 non-null    int64  \n",
      " 8   exang     303 non-null    int64  \n",
      " 9   oldpeak   303 non-null    float64\n",
      " 10  slope     303 non-null    int64  \n",
      " 11  ca        303 non-null    int64  \n",
      " 12  thal      303 non-null    int64  \n",
      " 13  target    303 non-null    int64  \n",
      "dtypes: float64(1), int64(13)\n",
      "memory usage: 33.3 KB\n"
     ]
    }
   ],
   "source": [
    "df.info()"
   ]
  },
  {
   "cell_type": "markdown",
   "metadata": {},
   "source": [
    "### Outliers - stršeći podaci"
   ]
  },
  {
   "cell_type": "code",
   "execution_count": 7,
   "metadata": {
    "scrolled": false
   },
   "outputs": [
    {
     "data": {
      "image/png": "[encoded data removed]",
      "text/plain": [
       "<Figure size 1440x288 with 5 Axes>"
      ]
     },
     "metadata": {
      "needs_background": "light"
     },
     "output_type": "display_data"
    }
   ],
   "source": [
    "fig, ax = plt.subplots(1, 5, figsize=(20,4))\n",
    "\n",
    "ax[0].boxplot(df.age)\n",
    "ax[0].title.set_text('age')\n",
    "\n",
    "ax[1].boxplot(df.trestbps)\n",
    "ax[1].title.set_text('trestbps')\n",
    "\n",
    "ax[2].boxplot(df.chol)\n",
    "ax[2].title.set_text('chol')\n",
    "\n",
    "ax[3].boxplot(df.thalach)\n",
    "ax[3].title.set_text('thalach')\n",
    "\n",
    "ax[4].boxplot(df.oldpeak)\n",
    "ax[4].title.set_text('oldpeak')\n",
    "\n",
    "plt.show()"
   ]
  },
  {
   "cell_type": "code",
   "execution_count": 8,
   "metadata": {
    "scrolled": false
   },
   "outputs": [
    {
     "name": "stdout",
     "output_type": "stream",
     "text": [
      "2\n",
      "1\n"
     ]
    }
   ],
   "source": [
    "print(df.loc[df.oldpeak > 5]['oldpeak'].count())\n",
    "print(df.loc[df.chol > 500]['chol'].count())\n"
   ]
  },
  {
   "cell_type": "markdown",
   "metadata": {},
   "source": [
    "Izbacivanje stršećih podataka"
   ]
  },
  {
   "cell_type": "code",
   "execution_count": 9,
   "metadata": {
    "scrolled": false
   },
   "outputs": [
    {
     "name": "stdout",
     "output_type": "stream",
     "text": [
      "303\n",
      "300\n"
     ]
    }
   ],
   "source": [
    "print(len(df))\n",
    "\n",
    "df = df.loc[df.chol <= 500]\n",
    "df = df.loc[df.oldpeak <= 5]\n",
    "\n",
    "print(len(df))"
   ]
  },
  {
   "cell_type": "markdown",
   "metadata": {},
   "source": [
    "Izbacivanje duplikata"
   ]
  },
  {
   "cell_type": "code",
   "execution_count": 10,
   "metadata": {
    "scrolled": false
   },
   "outputs": [
    {
     "name": "stdout",
     "output_type": "stream",
     "text": [
      "300\n",
      "299\n"
     ]
    }
   ],
   "source": [
    "print(len(df))\n",
    "\n",
    "df.drop_duplicates(inplace=True)\n",
    "\n",
    "print(len(df))"
   ]
  },
  {
   "cell_type": "markdown",
   "metadata": {},
   "source": [
    "### Važnost pojedinih značajki"
   ]
  },
  {
   "cell_type": "code",
   "execution_count": 11,
   "metadata": {
    "scrolled": false
   },
   "outputs": [
    {
     "data": {
      "text/plain": [
       "<AxesSubplot:>"
      ]
     },
     "execution_count": 11,
     "metadata": {},
     "output_type": "execute_result"
    },
    {
     "data": {
      "image/png": "[encoded data removed]",
      "text/plain": [
       "<Figure size 432x288 with 1 Axes>"
      ]
     },
     "metadata": {
      "needs_background": "light"
     },
     "output_type": "display_data"
    }
   ],
   "source": [
    "from sklearn.feature_selection import SelectKBest, mutual_info_classif\n",
    "\n",
    "X = df.filter(regex='^(?!target$).*')\n",
    "y = df['target']\n",
    "\n",
    "kbest = SelectKBest(mutual_info_classif, k=13)\n",
    "kbest.fit(X, y)\n",
    "\n",
    "feat_importances = pd.Series(kbest.scores_, index=X.columns)\n",
    "feat_importances.nlargest(13).plot(kind='barh')\n"
   ]
  },
  {
   "cell_type": "markdown",
   "metadata": {},
   "source": [
    "Vizualizacija utjecaja najbitnijih značajki na zatajenje srca."
   ]
  },
  {
   "cell_type": "code",
   "execution_count": 12,
   "metadata": {
    "scrolled": false
   },
   "outputs": [
    {
     "data": {
      "image/png": "[encoded data removed]",
      "text/plain": [
       "<Figure size 432x288 with 1 Axes>"
      ]
     },
     "metadata": {
      "needs_background": "light"
     },
     "output_type": "display_data"
    }
   ],
   "source": [
    "# mask\n",
    "mask_hf = df.target == 1\n",
    "\n",
    "# plot\n",
    "plt.scatter(df.loc[mask_hf,'oldpeak'], df.loc[mask_hf,'thal'], alpha=0.5, c='r', label='HF')\n",
    "plt.scatter(df.loc[~mask_hf,'oldpeak'], df.loc[~mask_hf,'thal'], alpha=0.5, c='g', label='no HF')\n",
    "plt.xlabel('oldpeak - ST depression')\n",
    "plt.ylabel('thal - thalassemia')\n",
    "plt.title('2D prikaz značajki oldpeak i thal (crvene točke - zatajenje srca, zelene točke - nema zatajenja)')\n",
    "plt.grid()\n",
    "plt.legend(loc='best')\n",
    "plt.show()"
   ]
  },
  {
   "cell_type": "markdown",
   "metadata": {},
   "source": [
    "Još jedan par zanimljivih značajki"
   ]
  },
  {
   "cell_type": "code",
   "execution_count": 13,
   "metadata": {
    "scrolled": false
   },
   "outputs": [
    {
     "data": {
      "image/png": "[encoded data removed]",
      "text/plain": [
       "<Figure size 432x288 with 1 Axes>"
      ]
     },
     "metadata": {
      "needs_background": "light"
     },
     "output_type": "display_data"
    }
   ],
   "source": [
    "# mask\n",
    "mask_hf = df.target == 1\n",
    "\n",
    "# plot\n",
    "plt.scatter(df.loc[mask_hf,'age'], df.loc[mask_hf,'thalach'], alpha=0.5, c='r', label='HF')\n",
    "plt.scatter(df.loc[~mask_hf,'age'], df.loc[~mask_hf,'thalach'], alpha=0.5, c='g', label='no HF')\n",
    "plt.xlabel('age')\n",
    "plt.ylabel('thalach - max. heart rate')\n",
    "plt.title('2D prikaz značajki age i thalach (crvene točke - zatajenje srca, zelene točke - nema zatajenja)')\n",
    "plt.grid()\n",
    "plt.legend(loc='best')\n",
    "plt.show()"
   ]
  },
  {
   "cell_type": "markdown",
   "metadata": {},
   "source": [
    "### Korelacija značajki\n",
    "\n",
    "Iz grafa se vidi da nema značajki koje su u visokoj korelacije stoga ne treba izbacivati značajke po ovoj osnovi."
   ]
  },
  {
   "cell_type": "code",
   "execution_count": 14,
   "metadata": {
    "scrolled": false
   },
   "outputs": [
    {
     "data": {
      "text/plain": [
       "<AxesSubplot:>"
      ]
     },
     "execution_count": 14,
     "metadata": {},
     "output_type": "execute_result"
    },
    {
     "data": {
      "image/png": "[encoded data removed]",
      "text/plain": [
       "<Figure size 864x720 with 2 Axes>"
      ]
     },
     "metadata": {
      "needs_background": "light"
     },
     "output_type": "display_data"
    }
   ],
   "source": [
    "fig, ax = plt.subplots(figsize=(12,10))\n",
    "sns.heatmap(df.corr(), annot=True)"
   ]
  },
  {
   "cell_type": "markdown",
   "metadata": {},
   "source": [
    "### Odvajanje skupova podataka\n",
    "\n",
    "Korak koji je u članku napravljen u krivom redosljedu"
   ]
  },
  {
   "cell_type": "code",
   "execution_count": 15,
   "metadata": {
    "scrolled": false
   },
   "outputs": [],
   "source": [
    "from sklearn import preprocessing, model_selection\n",
    "\n",
    "df_train, df_test = model_selection.train_test_split(df, test_size=0.3, random_state=42)"
   ]
  },
  {
   "cell_type": "markdown",
   "metadata": {},
   "source": [
    "### Stvaranje sintetičkih podataka"
   ]
  },
  {
   "cell_type": "code",
   "execution_count": 16,
   "metadata": {
    "scrolled": false
   },
   "outputs": [],
   "source": [
    "#from sklearn.neighbors import KernelDensity\n",
    "#kde = KernelDensity(kernel='gaussian', bandwidth=1.0).fit(df)\n",
    "#synthetic = pd.DataFrame(kde.sample(samples))\n",
    "\n",
    "\n",
    "def synthesize_data(samples: int, exisitngData: pd.DataFrame):\n",
    "    \n",
    "    new = []\n",
    "    \n",
    "    for i in range(samples):\n",
    "        \n",
    "        original = exisitngData.iloc[random.randint(0, len(exisitngData) - 1)].copy()\n",
    "        #print(original)\n",
    "        original['age'] += random.gauss(mu=0.0, sigma=(original['age'] / 50))\n",
    "        original['trestbps'] += random.gauss(mu=0.0, sigma=(original['trestbps'] / 50))\n",
    "        original['chol'] += random.gauss(mu=0.0, sigma=(original['chol'] / 50))\n",
    "        original['thalach'] += random.gauss(mu=0.0, sigma=(original['thalach'] / 50))\n",
    "        original['oldpeak'] += random.gauss(mu=0.0, sigma=(original['oldpeak'] / 50))\n",
    "        #print(original)\n",
    "        new.append(original)\n",
    "    \n",
    "    new = pd.DataFrame(new)\n",
    "    \n",
    "    new.age = np.round(new.age).astype(int) \n",
    "    new.sex = np.round(new.sex).astype(int) \n",
    "    new.cp = np.round(new.cp).astype(int) \n",
    "    new.trestbps = np.round(new.trestbps).astype(int) \n",
    "    new.chol = np.round(new.chol).astype(int) \n",
    "    new.fbs = np.round(new.fbs).astype(int) \n",
    "    new.restecg = np.round(new.restecg).astype(int) \n",
    "    new.thalach = np.round(new.thalach).astype(int) \n",
    "    new.exang = np.round(new.exang).astype(int) \n",
    "    new.oldpeak = np.round(new.oldpeak, 1)\n",
    "    new.slope = np.round(new.slope).astype(int) \n",
    "    new.ca = np.round(new.ca).astype(int) \n",
    "    new.thal = np.round(new.thal).astype(int) \n",
    "    new.target = np.round(new.target).astype(int) \n",
    "    \n",
    "    #new.drop(columns=['Id'])\n",
    "    return new\n"
   ]
  },
  {
   "cell_type": "code",
   "execution_count": 17,
   "metadata": {
    "scrolled": false
   },
   "outputs": [],
   "source": [
    "df_synthetic = synthesize_data(800, df_train)\n",
    "df_train_new = pd.merge(df_synthetic, df_train, how='outer')"
   ]
  },
  {
   "cell_type": "markdown",
   "metadata": {},
   "source": [
    "Ponovo izbacivanje duplikata za svaki slučaj"
   ]
  },
  {
   "cell_type": "code",
   "execution_count": 18,
   "metadata": {
    "scrolled": false
   },
   "outputs": [
    {
     "name": "stdout",
     "output_type": "stream",
     "text": [
      "1008\n",
      "1008\n"
     ]
    }
   ],
   "source": [
    "print(len(df_train_new))\n",
    "\n",
    "df_train_new.drop_duplicates(inplace=True)\n",
    "\n",
    "print(len(df_train_new))"
   ]
  },
  {
   "cell_type": "markdown",
   "metadata": {},
   "source": [
    "### Pretvorba kategoričkih značajki u binarne\n",
    "\n",
    "Kategorije značajki 'cp', 'restecg', 'slope' i 'thal' nemaju poredak pa ih pretvaramo u binarne uz one-hot encoding."
   ]
  },
  {
   "cell_type": "code",
   "execution_count": 19,
   "metadata": {
    "scrolled": false
   },
   "outputs": [
    {
     "data": {
      "text/plain": [
       "Index(['age', 'sex', 'trestbps', 'chol', 'fbs', 'thalach', 'exang', 'oldpeak',\n",
       "       'ca', 'target', 'cp_0', 'cp_1', 'cp_2', 'cp_3', 'restecg_0',\n",
       "       'restecg_1', 'restecg_2', 'slope_0', 'slope_1', 'slope_2', 'thal_0',\n",
       "       'thal_1', 'thal_2', 'thal_3'],\n",
       "      dtype='object')"
      ]
     },
     "execution_count": 19,
     "metadata": {},
     "output_type": "execute_result"
    }
   ],
   "source": [
    "df_train_new = pd.get_dummies(df_train_new, columns=['cp', 'restecg', 'slope', 'thal'])\n",
    "df_test = pd.get_dummies(df_test, columns=['cp', 'restecg', 'slope', 'thal'])\n",
    "\n",
    "df_train_new.columns"
   ]
  },
  {
   "cell_type": "markdown",
   "metadata": {},
   "source": [
    "\n",
    "### Odvajanje i skaliranje podataka"
   ]
  },
  {
   "cell_type": "code",
   "execution_count": 20,
   "metadata": {
    "scrolled": false
   },
   "outputs": [],
   "source": [
    "X_train = df_train_new.filter(regex='^(?!target$).*')\n",
    "y_train = df_train_new['target']\n",
    "\n",
    "X_test = df_test.filter(regex='^(?!target$).*')\n",
    "y_test = df_test['target']"
   ]
  },
  {
   "cell_type": "code",
   "execution_count": 21,
   "metadata": {
    "scrolled": false
   },
   "outputs": [
    {
     "data": {
      "text/html": [
       "<div>\n",
       "<style scoped>\n",
       "    .dataframe tbody tr th:only-of-type {\n",
       "        vertical-align: middle;\n",
       "    }\n",
       "\n",
       "    .dataframe tbody tr th {\n",
       "        vertical-align: top;\n",
       "    }\n",
       "\n",
       "    .dataframe thead th {\n",
       "        text-align: right;\n",
       "    }\n",
       "</style>\n",
       "<table border=\"1\" class=\"dataframe\">\n",
       "  <thead>\n",
       "    <tr style=\"text-align: right;\">\n",
       "      <th></th>\n",
       "      <th>age</th>\n",
       "      <th>sex</th>\n",
       "      <th>trestbps</th>\n",
       "      <th>chol</th>\n",
       "      <th>fbs</th>\n",
       "      <th>thalach</th>\n",
       "      <th>exang</th>\n",
       "      <th>oldpeak</th>\n",
       "      <th>ca</th>\n",
       "      <th>cp_0</th>\n",
       "      <th>...</th>\n",
       "      <th>restecg_0</th>\n",
       "      <th>restecg_1</th>\n",
       "      <th>restecg_2</th>\n",
       "      <th>slope_0</th>\n",
       "      <th>slope_1</th>\n",
       "      <th>slope_2</th>\n",
       "      <th>thal_0</th>\n",
       "      <th>thal_1</th>\n",
       "      <th>thal_2</th>\n",
       "      <th>thal_3</th>\n",
       "    </tr>\n",
       "  </thead>\n",
       "  <tbody>\n",
       "    <tr>\n",
       "      <th>0</th>\n",
       "      <td>52</td>\n",
       "      <td>1</td>\n",
       "      <td>118</td>\n",
       "      <td>188</td>\n",
       "      <td>0</td>\n",
       "      <td>188</td>\n",
       "      <td>0</td>\n",
       "      <td>0.0</td>\n",
       "      <td>0</td>\n",
       "      <td>0</td>\n",
       "      <td>...</td>\n",
       "      <td>1</td>\n",
       "      <td>0</td>\n",
       "      <td>0</td>\n",
       "      <td>0</td>\n",
       "      <td>1</td>\n",
       "      <td>0</td>\n",
       "      <td>0</td>\n",
       "      <td>1</td>\n",
       "      <td>0</td>\n",
       "      <td>0</td>\n",
       "    </tr>\n",
       "    <tr>\n",
       "      <th>1</th>\n",
       "      <td>57</td>\n",
       "      <td>1</td>\n",
       "      <td>112</td>\n",
       "      <td>314</td>\n",
       "      <td>0</td>\n",
       "      <td>138</td>\n",
       "      <td>0</td>\n",
       "      <td>4.4</td>\n",
       "      <td>3</td>\n",
       "      <td>1</td>\n",
       "      <td>...</td>\n",
       "      <td>0</td>\n",
       "      <td>0</td>\n",
       "      <td>1</td>\n",
       "      <td>1</td>\n",
       "      <td>0</td>\n",
       "      <td>0</td>\n",
       "      <td>0</td>\n",
       "      <td>1</td>\n",
       "      <td>0</td>\n",
       "      <td>0</td>\n",
       "    </tr>\n",
       "    <tr>\n",
       "      <th>2</th>\n",
       "      <td>56</td>\n",
       "      <td>0</td>\n",
       "      <td>145</td>\n",
       "      <td>233</td>\n",
       "      <td>0</td>\n",
       "      <td>118</td>\n",
       "      <td>1</td>\n",
       "      <td>0.2</td>\n",
       "      <td>0</td>\n",
       "      <td>1</td>\n",
       "      <td>...</td>\n",
       "      <td>0</td>\n",
       "      <td>1</td>\n",
       "      <td>0</td>\n",
       "      <td>0</td>\n",
       "      <td>1</td>\n",
       "      <td>0</td>\n",
       "      <td>0</td>\n",
       "      <td>0</td>\n",
       "      <td>0</td>\n",
       "      <td>1</td>\n",
       "    </tr>\n",
       "    <tr>\n",
       "      <th>3</th>\n",
       "      <td>53</td>\n",
       "      <td>1</td>\n",
       "      <td>124</td>\n",
       "      <td>255</td>\n",
       "      <td>0</td>\n",
       "      <td>160</td>\n",
       "      <td>1</td>\n",
       "      <td>0.0</td>\n",
       "      <td>1</td>\n",
       "      <td>1</td>\n",
       "      <td>...</td>\n",
       "      <td>0</td>\n",
       "      <td>1</td>\n",
       "      <td>0</td>\n",
       "      <td>0</td>\n",
       "      <td>0</td>\n",
       "      <td>1</td>\n",
       "      <td>0</td>\n",
       "      <td>0</td>\n",
       "      <td>0</td>\n",
       "      <td>1</td>\n",
       "    </tr>\n",
       "    <tr>\n",
       "      <th>4</th>\n",
       "      <td>57</td>\n",
       "      <td>1</td>\n",
       "      <td>133</td>\n",
       "      <td>226</td>\n",
       "      <td>0</td>\n",
       "      <td>179</td>\n",
       "      <td>0</td>\n",
       "      <td>3.2</td>\n",
       "      <td>2</td>\n",
       "      <td>0</td>\n",
       "      <td>...</td>\n",
       "      <td>1</td>\n",
       "      <td>0</td>\n",
       "      <td>0</td>\n",
       "      <td>0</td>\n",
       "      <td>0</td>\n",
       "      <td>1</td>\n",
       "      <td>0</td>\n",
       "      <td>0</td>\n",
       "      <td>0</td>\n",
       "      <td>1</td>\n",
       "    </tr>\n",
       "    <tr>\n",
       "      <th>...</th>\n",
       "      <td>...</td>\n",
       "      <td>...</td>\n",
       "      <td>...</td>\n",
       "      <td>...</td>\n",
       "      <td>...</td>\n",
       "      <td>...</td>\n",
       "      <td>...</td>\n",
       "      <td>...</td>\n",
       "      <td>...</td>\n",
       "      <td>...</td>\n",
       "      <td>...</td>\n",
       "      <td>...</td>\n",
       "      <td>...</td>\n",
       "      <td>...</td>\n",
       "      <td>...</td>\n",
       "      <td>...</td>\n",
       "      <td>...</td>\n",
       "      <td>...</td>\n",
       "      <td>...</td>\n",
       "      <td>...</td>\n",
       "      <td>...</td>\n",
       "    </tr>\n",
       "    <tr>\n",
       "      <th>1003</th>\n",
       "      <td>51</td>\n",
       "      <td>0</td>\n",
       "      <td>130</td>\n",
       "      <td>305</td>\n",
       "      <td>0</td>\n",
       "      <td>142</td>\n",
       "      <td>1</td>\n",
       "      <td>1.2</td>\n",
       "      <td>0</td>\n",
       "      <td>1</td>\n",
       "      <td>...</td>\n",
       "      <td>0</td>\n",
       "      <td>1</td>\n",
       "      <td>0</td>\n",
       "      <td>0</td>\n",
       "      <td>1</td>\n",
       "      <td>0</td>\n",
       "      <td>0</td>\n",
       "      <td>0</td>\n",
       "      <td>0</td>\n",
       "      <td>1</td>\n",
       "    </tr>\n",
       "    <tr>\n",
       "      <th>1004</th>\n",
       "      <td>51</td>\n",
       "      <td>1</td>\n",
       "      <td>94</td>\n",
       "      <td>227</td>\n",
       "      <td>0</td>\n",
       "      <td>154</td>\n",
       "      <td>1</td>\n",
       "      <td>0.0</td>\n",
       "      <td>1</td>\n",
       "      <td>0</td>\n",
       "      <td>...</td>\n",
       "      <td>0</td>\n",
       "      <td>1</td>\n",
       "      <td>0</td>\n",
       "      <td>0</td>\n",
       "      <td>0</td>\n",
       "      <td>1</td>\n",
       "      <td>0</td>\n",
       "      <td>0</td>\n",
       "      <td>0</td>\n",
       "      <td>1</td>\n",
       "    </tr>\n",
       "    <tr>\n",
       "      <th>1005</th>\n",
       "      <td>45</td>\n",
       "      <td>0</td>\n",
       "      <td>138</td>\n",
       "      <td>236</td>\n",
       "      <td>0</td>\n",
       "      <td>152</td>\n",
       "      <td>1</td>\n",
       "      <td>0.2</td>\n",
       "      <td>0</td>\n",
       "      <td>1</td>\n",
       "      <td>...</td>\n",
       "      <td>1</td>\n",
       "      <td>0</td>\n",
       "      <td>0</td>\n",
       "      <td>0</td>\n",
       "      <td>1</td>\n",
       "      <td>0</td>\n",
       "      <td>0</td>\n",
       "      <td>0</td>\n",
       "      <td>1</td>\n",
       "      <td>0</td>\n",
       "    </tr>\n",
       "    <tr>\n",
       "      <th>1006</th>\n",
       "      <td>47</td>\n",
       "      <td>1</td>\n",
       "      <td>110</td>\n",
       "      <td>275</td>\n",
       "      <td>0</td>\n",
       "      <td>118</td>\n",
       "      <td>1</td>\n",
       "      <td>1.0</td>\n",
       "      <td>1</td>\n",
       "      <td>1</td>\n",
       "      <td>...</td>\n",
       "      <td>1</td>\n",
       "      <td>0</td>\n",
       "      <td>0</td>\n",
       "      <td>0</td>\n",
       "      <td>1</td>\n",
       "      <td>0</td>\n",
       "      <td>0</td>\n",
       "      <td>0</td>\n",
       "      <td>1</td>\n",
       "      <td>0</td>\n",
       "    </tr>\n",
       "    <tr>\n",
       "      <th>1007</th>\n",
       "      <td>42</td>\n",
       "      <td>1</td>\n",
       "      <td>120</td>\n",
       "      <td>240</td>\n",
       "      <td>1</td>\n",
       "      <td>194</td>\n",
       "      <td>0</td>\n",
       "      <td>0.8</td>\n",
       "      <td>0</td>\n",
       "      <td>0</td>\n",
       "      <td>...</td>\n",
       "      <td>0</td>\n",
       "      <td>1</td>\n",
       "      <td>0</td>\n",
       "      <td>1</td>\n",
       "      <td>0</td>\n",
       "      <td>0</td>\n",
       "      <td>0</td>\n",
       "      <td>0</td>\n",
       "      <td>0</td>\n",
       "      <td>1</td>\n",
       "    </tr>\n",
       "  </tbody>\n",
       "</table>\n",
       "<p>1008 rows × 23 columns</p>\n",
       "</div>"
      ],
      "text/plain": [
       "      age  sex  trestbps  chol  fbs  thalach  exang  oldpeak  ca  cp_0  ...  \\\n",
       "0      52    1       118   188    0      188      0      0.0   0     0  ...   \n",
       "1      57    1       112   314    0      138      0      4.4   3     1  ...   \n",
       "2      56    0       145   233    0      118      1      0.2   0     1  ...   \n",
       "3      53    1       124   255    0      160      1      0.0   1     1  ...   \n",
       "4      57    1       133   226    0      179      0      3.2   2     0  ...   \n",
       "...   ...  ...       ...   ...  ...      ...    ...      ...  ..   ...  ...   \n",
       "1003   51    0       130   305    0      142      1      1.2   0     1  ...   \n",
       "1004   51    1        94   227    0      154      1      0.0   1     0  ...   \n",
       "1005   45    0       138   236    0      152      1      0.2   0     1  ...   \n",
       "1006   47    1       110   275    0      118      1      1.0   1     1  ...   \n",
       "1007   42    1       120   240    1      194      0      0.8   0     0  ...   \n",
       "\n",
       "      restecg_0  restecg_1  restecg_2  slope_0  slope_1  slope_2  thal_0  \\\n",
       "0             1          0          0        0        1        0       0   \n",
       "1             0          0          1        1        0        0       0   \n",
       "2             0          1          0        0        1        0       0   \n",
       "3             0          1          0        0        0        1       0   \n",
       "4             1          0          0        0        0        1       0   \n",
       "...         ...        ...        ...      ...      ...      ...     ...   \n",
       "1003          0          1          0        0        1        0       0   \n",
       "1004          0          1          0        0        0        1       0   \n",
       "1005          1          0          0        0        1        0       0   \n",
       "1006          1          0          0        0        1        0       0   \n",
       "1007          0          1          0        1        0        0       0   \n",
       "\n",
       "      thal_1  thal_2  thal_3  \n",
       "0          1       0       0  \n",
       "1          1       0       0  \n",
       "2          0       0       1  \n",
       "3          0       0       1  \n",
       "4          0       0       1  \n",
       "...      ...     ...     ...  \n",
       "1003       0       0       1  \n",
       "1004       0       0       1  \n",
       "1005       0       1       0  \n",
       "1006       0       1       0  \n",
       "1007       0       0       1  \n",
       "\n",
       "[1008 rows x 23 columns]"
      ]
     },
     "execution_count": 21,
     "metadata": {},
     "output_type": "execute_result"
    }
   ],
   "source": [
    "X_train"
   ]
  },
  {
   "cell_type": "code",
   "execution_count": 22,
   "metadata": {
    "scrolled": false
   },
   "outputs": [],
   "source": [
    "X_train = X_train.to_numpy()\n",
    "y_train = y_train.to_numpy()\n",
    "\n",
    "X_test = X_test.to_numpy()\n",
    "y_test = y_test.to_numpy()"
   ]
  },
  {
   "cell_type": "markdown",
   "metadata": {},
   "source": [
    "Skaliranje i odvajanje na skup za treniranje i testiranje."
   ]
  },
  {
   "cell_type": "code",
   "execution_count": 23,
   "metadata": {
    "scrolled": false
   },
   "outputs": [
    {
     "data": {
      "text/html": [
       "<div>\n",
       "<style scoped>\n",
       "    .dataframe tbody tr th:only-of-type {\n",
       "        vertical-align: middle;\n",
       "    }\n",
       "\n",
       "    .dataframe tbody tr th {\n",
       "        vertical-align: top;\n",
       "    }\n",
       "\n",
       "    .dataframe thead th {\n",
       "        text-align: right;\n",
       "    }\n",
       "</style>\n",
       "<table border=\"1\" class=\"dataframe\">\n",
       "  <thead>\n",
       "    <tr style=\"text-align: right;\">\n",
       "      <th></th>\n",
       "      <th>0</th>\n",
       "      <th>1</th>\n",
       "      <th>2</th>\n",
       "      <th>3</th>\n",
       "      <th>4</th>\n",
       "      <th>5</th>\n",
       "      <th>6</th>\n",
       "      <th>7</th>\n",
       "      <th>8</th>\n",
       "      <th>9</th>\n",
       "      <th>...</th>\n",
       "      <th>13</th>\n",
       "      <th>14</th>\n",
       "      <th>15</th>\n",
       "      <th>16</th>\n",
       "      <th>17</th>\n",
       "      <th>18</th>\n",
       "      <th>19</th>\n",
       "      <th>20</th>\n",
       "      <th>21</th>\n",
       "      <th>22</th>\n",
       "    </tr>\n",
       "  </thead>\n",
       "  <tbody>\n",
       "    <tr>\n",
       "      <th>0</th>\n",
       "      <td>-0.248234</td>\n",
       "      <td>0.630919</td>\n",
       "      <td>-0.751261</td>\n",
       "      <td>-1.081990</td>\n",
       "      <td>-0.418121</td>\n",
       "      <td>1.611401</td>\n",
       "      <td>-0.666428</td>\n",
       "      <td>-0.901276</td>\n",
       "      <td>-0.747415</td>\n",
       "      <td>-0.962986</td>\n",
       "      <td>...</td>\n",
       "      <td>1.005970</td>\n",
       "      <td>-0.988165</td>\n",
       "      <td>-0.094916</td>\n",
       "      <td>-0.281477</td>\n",
       "      <td>1.104656</td>\n",
       "      <td>-0.953463</td>\n",
       "      <td>-0.054636</td>\n",
       "      <td>3.718001</td>\n",
       "      <td>-1.087115</td>\n",
       "      <td>-0.796060</td>\n",
       "    </tr>\n",
       "    <tr>\n",
       "      <th>1</th>\n",
       "      <td>0.309297</td>\n",
       "      <td>0.630919</td>\n",
       "      <td>-1.120751</td>\n",
       "      <td>1.362447</td>\n",
       "      <td>-0.418121</td>\n",
       "      <td>-0.508421</td>\n",
       "      <td>-0.666428</td>\n",
       "      <td>3.133588</td>\n",
       "      <td>2.139155</td>\n",
       "      <td>1.038437</td>\n",
       "      <td>...</td>\n",
       "      <td>-0.994065</td>\n",
       "      <td>-0.988165</td>\n",
       "      <td>10.535654</td>\n",
       "      <td>3.552692</td>\n",
       "      <td>-0.905259</td>\n",
       "      <td>-0.953463</td>\n",
       "      <td>-0.054636</td>\n",
       "      <td>3.718001</td>\n",
       "      <td>-1.087115</td>\n",
       "      <td>-0.796060</td>\n",
       "    </tr>\n",
       "    <tr>\n",
       "      <th>2</th>\n",
       "      <td>0.197791</td>\n",
       "      <td>-1.584991</td>\n",
       "      <td>0.911447</td>\n",
       "      <td>-0.208977</td>\n",
       "      <td>-0.418121</td>\n",
       "      <td>-1.356350</td>\n",
       "      <td>1.500538</td>\n",
       "      <td>-0.717873</td>\n",
       "      <td>-0.747415</td>\n",
       "      <td>1.038437</td>\n",
       "      <td>...</td>\n",
       "      <td>-0.994065</td>\n",
       "      <td>1.011976</td>\n",
       "      <td>-0.094916</td>\n",
       "      <td>-0.281477</td>\n",
       "      <td>1.104656</td>\n",
       "      <td>-0.953463</td>\n",
       "      <td>-0.054636</td>\n",
       "      <td>-0.268962</td>\n",
       "      <td>-1.087115</td>\n",
       "      <td>1.256187</td>\n",
       "    </tr>\n",
       "    <tr>\n",
       "      <th>3</th>\n",
       "      <td>-0.136728</td>\n",
       "      <td>0.630919</td>\n",
       "      <td>-0.381770</td>\n",
       "      <td>0.217830</td>\n",
       "      <td>-0.418121</td>\n",
       "      <td>0.424301</td>\n",
       "      <td>1.500538</td>\n",
       "      <td>-0.901276</td>\n",
       "      <td>0.214775</td>\n",
       "      <td>1.038437</td>\n",
       "      <td>...</td>\n",
       "      <td>-0.994065</td>\n",
       "      <td>1.011976</td>\n",
       "      <td>-0.094916</td>\n",
       "      <td>-0.281477</td>\n",
       "      <td>-0.905259</td>\n",
       "      <td>1.048809</td>\n",
       "      <td>-0.054636</td>\n",
       "      <td>-0.268962</td>\n",
       "      <td>-1.087115</td>\n",
       "      <td>1.256187</td>\n",
       "    </tr>\n",
       "    <tr>\n",
       "      <th>4</th>\n",
       "      <td>0.309297</td>\n",
       "      <td>0.630919</td>\n",
       "      <td>0.172466</td>\n",
       "      <td>-0.344779</td>\n",
       "      <td>-0.418121</td>\n",
       "      <td>1.229833</td>\n",
       "      <td>-0.666428</td>\n",
       "      <td>2.033171</td>\n",
       "      <td>1.176965</td>\n",
       "      <td>-0.962986</td>\n",
       "      <td>...</td>\n",
       "      <td>1.005970</td>\n",
       "      <td>-0.988165</td>\n",
       "      <td>-0.094916</td>\n",
       "      <td>-0.281477</td>\n",
       "      <td>-0.905259</td>\n",
       "      <td>1.048809</td>\n",
       "      <td>-0.054636</td>\n",
       "      <td>-0.268962</td>\n",
       "      <td>-1.087115</td>\n",
       "      <td>1.256187</td>\n",
       "    </tr>\n",
       "    <tr>\n",
       "      <th>...</th>\n",
       "      <td>...</td>\n",
       "      <td>...</td>\n",
       "      <td>...</td>\n",
       "      <td>...</td>\n",
       "      <td>...</td>\n",
       "      <td>...</td>\n",
       "      <td>...</td>\n",
       "      <td>...</td>\n",
       "      <td>...</td>\n",
       "      <td>...</td>\n",
       "      <td>...</td>\n",
       "      <td>...</td>\n",
       "      <td>...</td>\n",
       "      <td>...</td>\n",
       "      <td>...</td>\n",
       "      <td>...</td>\n",
       "      <td>...</td>\n",
       "      <td>...</td>\n",
       "      <td>...</td>\n",
       "      <td>...</td>\n",
       "      <td>...</td>\n",
       "    </tr>\n",
       "    <tr>\n",
       "      <th>1003</th>\n",
       "      <td>-0.359740</td>\n",
       "      <td>-1.584991</td>\n",
       "      <td>-0.012280</td>\n",
       "      <td>1.187845</td>\n",
       "      <td>-0.418121</td>\n",
       "      <td>-0.338835</td>\n",
       "      <td>1.500538</td>\n",
       "      <td>0.199141</td>\n",
       "      <td>-0.747415</td>\n",
       "      <td>1.038437</td>\n",
       "      <td>...</td>\n",
       "      <td>-0.994065</td>\n",
       "      <td>1.011976</td>\n",
       "      <td>-0.094916</td>\n",
       "      <td>-0.281477</td>\n",
       "      <td>1.104656</td>\n",
       "      <td>-0.953463</td>\n",
       "      <td>-0.054636</td>\n",
       "      <td>-0.268962</td>\n",
       "      <td>-1.087115</td>\n",
       "      <td>1.256187</td>\n",
       "    </tr>\n",
       "    <tr>\n",
       "      <th>1004</th>\n",
       "      <td>-0.359740</td>\n",
       "      <td>0.630919</td>\n",
       "      <td>-2.229223</td>\n",
       "      <td>-0.325378</td>\n",
       "      <td>-0.418121</td>\n",
       "      <td>0.169922</td>\n",
       "      <td>1.500538</td>\n",
       "      <td>-0.901276</td>\n",
       "      <td>0.214775</td>\n",
       "      <td>-0.962986</td>\n",
       "      <td>...</td>\n",
       "      <td>-0.994065</td>\n",
       "      <td>1.011976</td>\n",
       "      <td>-0.094916</td>\n",
       "      <td>-0.281477</td>\n",
       "      <td>-0.905259</td>\n",
       "      <td>1.048809</td>\n",
       "      <td>-0.054636</td>\n",
       "      <td>-0.268962</td>\n",
       "      <td>-1.087115</td>\n",
       "      <td>1.256187</td>\n",
       "    </tr>\n",
       "    <tr>\n",
       "      <th>1005</th>\n",
       "      <td>-1.028777</td>\n",
       "      <td>-1.584991</td>\n",
       "      <td>0.480374</td>\n",
       "      <td>-0.150776</td>\n",
       "      <td>-0.418121</td>\n",
       "      <td>0.085129</td>\n",
       "      <td>1.500538</td>\n",
       "      <td>-0.717873</td>\n",
       "      <td>-0.747415</td>\n",
       "      <td>1.038437</td>\n",
       "      <td>...</td>\n",
       "      <td>1.005970</td>\n",
       "      <td>-0.988165</td>\n",
       "      <td>-0.094916</td>\n",
       "      <td>-0.281477</td>\n",
       "      <td>1.104656</td>\n",
       "      <td>-0.953463</td>\n",
       "      <td>-0.054636</td>\n",
       "      <td>-0.268962</td>\n",
       "      <td>0.919866</td>\n",
       "      <td>-0.796060</td>\n",
       "    </tr>\n",
       "    <tr>\n",
       "      <th>1006</th>\n",
       "      <td>-0.805765</td>\n",
       "      <td>0.630919</td>\n",
       "      <td>-1.243915</td>\n",
       "      <td>0.605836</td>\n",
       "      <td>-0.418121</td>\n",
       "      <td>-1.356350</td>\n",
       "      <td>1.500538</td>\n",
       "      <td>0.015738</td>\n",
       "      <td>0.214775</td>\n",
       "      <td>1.038437</td>\n",
       "      <td>...</td>\n",
       "      <td>1.005970</td>\n",
       "      <td>-0.988165</td>\n",
       "      <td>-0.094916</td>\n",
       "      <td>-0.281477</td>\n",
       "      <td>1.104656</td>\n",
       "      <td>-0.953463</td>\n",
       "      <td>-0.054636</td>\n",
       "      <td>-0.268962</td>\n",
       "      <td>0.919866</td>\n",
       "      <td>-0.796060</td>\n",
       "    </tr>\n",
       "    <tr>\n",
       "      <th>1007</th>\n",
       "      <td>-1.363296</td>\n",
       "      <td>0.630919</td>\n",
       "      <td>-0.628097</td>\n",
       "      <td>-0.073175</td>\n",
       "      <td>2.391652</td>\n",
       "      <td>1.865780</td>\n",
       "      <td>-0.666428</td>\n",
       "      <td>-0.167664</td>\n",
       "      <td>-0.747415</td>\n",
       "      <td>-0.962986</td>\n",
       "      <td>...</td>\n",
       "      <td>-0.994065</td>\n",
       "      <td>1.011976</td>\n",
       "      <td>-0.094916</td>\n",
       "      <td>3.552692</td>\n",
       "      <td>-0.905259</td>\n",
       "      <td>-0.953463</td>\n",
       "      <td>-0.054636</td>\n",
       "      <td>-0.268962</td>\n",
       "      <td>-1.087115</td>\n",
       "      <td>1.256187</td>\n",
       "    </tr>\n",
       "  </tbody>\n",
       "</table>\n",
       "<p>1008 rows × 23 columns</p>\n",
       "</div>"
      ],
      "text/plain": [
       "            0         1         2         3         4         5         6   \\\n",
       "0    -0.248234  0.630919 -0.751261 -1.081990 -0.418121  1.611401 -0.666428   \n",
       "1     0.309297  0.630919 -1.120751  1.362447 -0.418121 -0.508421 -0.666428   \n",
       "2     0.197791 -1.584991  0.911447 -0.208977 -0.418121 -1.356350  1.500538   \n",
       "3    -0.136728  0.630919 -0.381770  0.217830 -0.418121  0.424301  1.500538   \n",
       "4     0.309297  0.630919  0.172466 -0.344779 -0.418121  1.229833 -0.666428   \n",
       "...        ...       ...       ...       ...       ...       ...       ...   \n",
       "1003 -0.359740 -1.584991 -0.012280  1.187845 -0.418121 -0.338835  1.500538   \n",
       "1004 -0.359740  0.630919 -2.229223 -0.325378 -0.418121  0.169922  1.500538   \n",
       "1005 -1.028777 -1.584991  0.480374 -0.150776 -0.418121  0.085129  1.500538   \n",
       "1006 -0.805765  0.630919 -1.243915  0.605836 -0.418121 -1.356350  1.500538   \n",
       "1007 -1.363296  0.630919 -0.628097 -0.073175  2.391652  1.865780 -0.666428   \n",
       "\n",
       "            7         8         9   ...        13        14         15  \\\n",
       "0    -0.901276 -0.747415 -0.962986  ...  1.005970 -0.988165  -0.094916   \n",
       "1     3.133588  2.139155  1.038437  ... -0.994065 -0.988165  10.535654   \n",
       "2    -0.717873 -0.747415  1.038437  ... -0.994065  1.011976  -0.094916   \n",
       "3    -0.901276  0.214775  1.038437  ... -0.994065  1.011976  -0.094916   \n",
       "4     2.033171  1.176965 -0.962986  ...  1.005970 -0.988165  -0.094916   \n",
       "...        ...       ...       ...  ...       ...       ...        ...   \n",
       "1003  0.199141 -0.747415  1.038437  ... -0.994065  1.011976  -0.094916   \n",
       "1004 -0.901276  0.214775 -0.962986  ... -0.994065  1.011976  -0.094916   \n",
       "1005 -0.717873 -0.747415  1.038437  ...  1.005970 -0.988165  -0.094916   \n",
       "1006  0.015738  0.214775  1.038437  ...  1.005970 -0.988165  -0.094916   \n",
       "1007 -0.167664 -0.747415 -0.962986  ... -0.994065  1.011976  -0.094916   \n",
       "\n",
       "            16        17        18        19        20        21        22  \n",
       "0    -0.281477  1.104656 -0.953463 -0.054636  3.718001 -1.087115 -0.796060  \n",
       "1     3.552692 -0.905259 -0.953463 -0.054636  3.718001 -1.087115 -0.796060  \n",
       "2    -0.281477  1.104656 -0.953463 -0.054636 -0.268962 -1.087115  1.256187  \n",
       "3    -0.281477 -0.905259  1.048809 -0.054636 -0.268962 -1.087115  1.256187  \n",
       "4    -0.281477 -0.905259  1.048809 -0.054636 -0.268962 -1.087115  1.256187  \n",
       "...        ...       ...       ...       ...       ...       ...       ...  \n",
       "1003 -0.281477  1.104656 -0.953463 -0.054636 -0.268962 -1.087115  1.256187  \n",
       "1004 -0.281477 -0.905259  1.048809 -0.054636 -0.268962 -1.087115  1.256187  \n",
       "1005 -0.281477  1.104656 -0.953463 -0.054636 -0.268962  0.919866 -0.796060  \n",
       "1006 -0.281477  1.104656 -0.953463 -0.054636 -0.268962  0.919866 -0.796060  \n",
       "1007  3.552692 -0.905259 -0.953463 -0.054636 -0.268962 -1.087115  1.256187  \n",
       "\n",
       "[1008 rows x 23 columns]"
      ]
     },
     "execution_count": 23,
     "metadata": {},
     "output_type": "execute_result"
    }
   ],
   "source": [
    "# fittanje scalera samo sa stvarnim podacima sa train skupa\n",
    "scaler = preprocessing.StandardScaler().fit(X_train)\n",
    "\n",
    "X_train_scaled = scaler.transform(X_train)\n",
    "X_test_scaled = scaler.transform(X_test)\n",
    "    \n",
    "pd.DataFrame(X_train_scaled)"
   ]
  },
  {
   "cell_type": "markdown",
   "metadata": {},
   "source": [
    "Selekcija značajki nije dala mjerljivo povećanje točnosti ili smanjenje vremena izvedbe pa taj kod ostaje zakomentiran."
   ]
  },
  {
   "cell_type": "code",
   "execution_count": 24,
   "metadata": {
    "scrolled": false
   },
   "outputs": [],
   "source": [
    "#kbest = SelectKBest(mutual_info_classif, k=15)\n",
    "#kbest.fit(X_train, y_train)\n",
    "#X_train = pd.DataFrame(X_train)\n",
    "#X_test = pd.DataFrame(X_test)\n",
    "\n",
    "#X_train_ = X_train[X_train.columns[kbest.get_support()]]\n",
    "#X_test_ = X_test[X_test.columns[kbest.get_support()]]"
   ]
  },
  {
   "cell_type": "markdown",
   "metadata": {},
   "source": [
    "Funkcija za evaluaciju modela."
   ]
  },
  {
   "cell_type": "code",
   "execution_count": 25,
   "metadata": {
    "scrolled": false
   },
   "outputs": [],
   "source": [
    "from sklearn.metrics import accuracy_score, classification_report, confusion_matrix\n",
    "\n",
    "def show_metrics(y_true, y_pred, rich=True):\n",
    "    print('Accuracy: {:.2f}%\\n'.format(accuracy_score(y_true, y_pred) * 100))\n",
    "    \n",
    "    if rich:\n",
    "        print(classification_report(y_true, y_pred))\n",
    "    \n",
    "        #sns.heatmap(confusion_matrix(y_test, y_pred), annot=True, cmap='Blues', fmt='g')\n",
    "        ax= plt.subplot()\n",
    "        sns.heatmap(confusion_matrix(y_test, y_pred), annot=True, fmt='g', cmap='Blues', ax=ax);\n",
    "    \n",
    "        ax.set_xlabel('Predicted labels');\n",
    "        ax.set_ylabel('True labels');  \n",
    "        ax.xaxis.set_ticklabels(['no HD', 'HD']);\n",
    "        ax.yaxis.set_ticklabels(['no HD', 'HD']);\n",
    "    "
   ]
  },
  {
   "cell_type": "markdown",
   "metadata": {},
   "source": [
    "Funkcija za k-fold evaluaciju."
   ]
  },
  {
   "cell_type": "code",
   "execution_count": 26,
   "metadata": {
    "scrolled": false
   },
   "outputs": [],
   "source": [
    "from sklearn.model_selection import KFold\n",
    "\n",
    "def kfold_eval(model, X, y, k=10):\n",
    "    \n",
    "    kf = KFold(n_splits=k, shuffle=True)\n",
    " \n",
    "    acc_score = []\n",
    " \n",
    "    for train_index, test_index in kf.split(X):\n",
    "        X_train , X_test = X[train_index], X[test_index]\n",
    "        y_train , y_test = y[train_index], y[test_index]\n",
    "     \n",
    "        model.fit(X_train, y_train)\n",
    "        y_pred = model.predict(X_test)\n",
    "     \n",
    "        acc = accuracy_score(y_test, y_pred)\n",
    "        acc_score.append(acc)\n",
    "     \n",
    "    avg_acc_score = sum(acc_score)/k\n",
    " \n",
    "    # print('accuracy of each fold - {}'.format(acc_score))\n",
    "    print('{}-fold avg accuracy: {:.2f}%'.format(k, avg_acc_score * 100))"
   ]
  },
  {
   "cell_type": "markdown",
   "metadata": {},
   "source": [
    "### Zaključak"
   ]
  },
  {
   "cell_type": "markdown",
   "metadata": {},
   "source": [
    "Rekreiranjem postupaka iz članka dobio sam slijedeće rezultate:\n",
    " - Stabla odluke -> dobivena točnost oko 96%, točnost iz članka 93.19%\n",
    " - Naivna Bayesova klasifikacija -> dobivena točnost oko 84%, točnost iz članka 87.27%\n",
    " - Random Forest -> dobivena točnost oko 98%, točnost iz članka 89.14%\n",
    " - Logistička regresija -> dobivena točnost oko 86.5%, točnost iz članka 87.36%\n",
    " - SVM (C=1) -> dobivena točnost oko 93%, točnost iz članka 92.30%\n",
    " - SVM (C=10) -> dobivena točnost oko 98%, točnost iz članka 92.30%"
   ]
  },
  {
   "cell_type": "markdown",
   "metadata": {},
   "source": [
    "Razultati više-manje odgovaraju rezultatima iz članka osim u slučajevima sa Random Forest klasifikatorom i SVM klasifikatorom uz konstantu C=10 gdje u oba slučajeva dobivam poprilično veću točnost.\n",
    "\n",
    "Sumnjam na to kako se točnost korištenih modela u članku pogrešno evaluirala ako je dataset podijeljen na train i test tek nakon stvaranja sintetičkih podataka. Ovo bi značilo da su podaci iz podskupa za testiranje također utjecali i na primjere iz podskupa za treniranje te to potencijalno objašnjava poprilično veću postignutu točnost u odnosu na prijašnje članke koji su koristili isti dataset.\n",
    "\n",
    "Smatram kako bi rješenje ovoga problema bilo uključiti cijeli Heart Failure Prediction Dataset koji ukupno uključuje 918 primjera te odmah na početku podijeliti dataset na skup za učenje i skup za treniranje. Nakon te podjele mogu se SAMO od primjera za treniranje napraviti dodatni sintetički podaci kako oni ne bi \"sličili\" na testne primjere."
   ]
  },
  {
   "cell_type": "markdown",
   "metadata": {},
   "source": [
    "# Proširenje projekta"
   ]
  },
  {
   "cell_type": "markdown",
   "metadata": {},
   "source": [
    "## Učenje i predikcija - baseline"
   ]
  },
  {
   "cell_type": "markdown",
   "metadata": {},
   "source": [
    "Budući da su u članku podaci za učenje utjecali na one za testiranje treba napraviti novi baseline kako bi znali koji rezultat pokušavamo nadmašiti."
   ]
  },
  {
   "cell_type": "markdown",
   "metadata": {},
   "source": [
    "### Stabla odluke"
   ]
  },
  {
   "cell_type": "code",
   "execution_count": 27,
   "metadata": {
    "scrolled": false
   },
   "outputs": [
    {
     "name": "stdout",
     "output_type": "stream",
     "text": [
      "Accuracy: 76.67%\n",
      "\n",
      "              precision    recall  f1-score   support\n",
      "\n",
      "           0       0.75      0.65      0.70        37\n",
      "           1       0.78      0.85      0.81        53\n",
      "\n",
      "    accuracy                           0.77        90\n",
      "   macro avg       0.76      0.75      0.75        90\n",
      "weighted avg       0.77      0.77      0.76        90\n",
      "\n"
     ]
    },
    {
     "data": {
      "image/png": "[encoded data removed]",
      "text/plain": [
       "<Figure size 432x288 with 2 Axes>"
      ]
     },
     "metadata": {
      "needs_background": "light"
     },
     "output_type": "display_data"
    }
   ],
   "source": [
    "from sklearn.tree import DecisionTreeClassifier\n",
    "\n",
    "tree_model = DecisionTreeClassifier()\n",
    "tree_model.fit(X_train_scaled, y_train)\n",
    "y_pred = tree_model.predict(X_test_scaled)\n",
    "\n",
    "show_metrics(y_test, y_pred)"
   ]
  },
  {
   "cell_type": "markdown",
   "metadata": {},
   "source": [
    "### Naivna Bayesova klasifikacija"
   ]
  },
  {
   "cell_type": "code",
   "execution_count": 28,
   "metadata": {
    "scrolled": false
   },
   "outputs": [
    {
     "name": "stdout",
     "output_type": "stream",
     "text": [
      "Accuracy: 61.11%\n",
      "\n",
      "              precision    recall  f1-score   support\n",
      "\n",
      "           0       0.51      0.97      0.67        37\n",
      "           1       0.95      0.36      0.52        53\n",
      "\n",
      "    accuracy                           0.61        90\n",
      "   macro avg       0.73      0.67      0.60        90\n",
      "weighted avg       0.77      0.61      0.58        90\n",
      "\n"
     ]
    },
    {
     "data": {
      "image/png": "[encoded data removed]",
      "text/plain": [
       "<Figure size 432x288 with 2 Axes>"
      ]
     },
     "metadata": {
      "needs_background": "light"
     },
     "output_type": "display_data"
    }
   ],
   "source": [
    "from sklearn.naive_bayes import GaussianNB\n",
    "\n",
    "nb_model = GaussianNB()\n",
    "nb_model.fit(X_train_scaled, y_train)\n",
    "y_pred = nb_model.predict(X_test_scaled)\n",
    "\n",
    "show_metrics(y_test, y_pred)"
   ]
  },
  {
   "cell_type": "markdown",
   "metadata": {},
   "source": [
    "### Random Forest"
   ]
  },
  {
   "cell_type": "code",
   "execution_count": 29,
   "metadata": {
    "scrolled": false
   },
   "outputs": [
    {
     "name": "stdout",
     "output_type": "stream",
     "text": [
      "Accuracy: 82.22%\n",
      "\n",
      "              precision    recall  f1-score   support\n",
      "\n",
      "           0       0.78      0.78      0.78        37\n",
      "           1       0.85      0.85      0.85        53\n",
      "\n",
      "    accuracy                           0.82        90\n",
      "   macro avg       0.82      0.82      0.82        90\n",
      "weighted avg       0.82      0.82      0.82        90\n",
      "\n"
     ]
    },
    {
     "data": {
      "image/png": "[encoded data removed]",
      "text/plain": [
       "<Figure size 432x288 with 2 Axes>"
      ]
     },
     "metadata": {
      "needs_background": "light"
     },
     "output_type": "display_data"
    }
   ],
   "source": [
    "from sklearn.ensemble import RandomForestClassifier\n",
    "\n",
    "rf_model = RandomForestClassifier()\n",
    "rf_model.fit(X_train_scaled, y_train)\n",
    "y_pred = rf_model.predict(X_test_scaled)\n",
    "\n",
    "show_metrics(y_test, y_pred)"
   ]
  },
  {
   "cell_type": "markdown",
   "metadata": {},
   "source": [
    "### Logistička regresija"
   ]
  },
  {
   "cell_type": "code",
   "execution_count": 30,
   "metadata": {
    "scrolled": false
   },
   "outputs": [
    {
     "name": "stdout",
     "output_type": "stream",
     "text": [
      "Accuracy: 84.44%\n",
      "\n",
      "              precision    recall  f1-score   support\n",
      "\n",
      "           0       0.85      0.76      0.80        37\n",
      "           1       0.84      0.91      0.87        53\n",
      "\n",
      "    accuracy                           0.84        90\n",
      "   macro avg       0.85      0.83      0.84        90\n",
      "weighted avg       0.84      0.84      0.84        90\n",
      "\n"
     ]
    },
    {
     "data": {
      "image/png": "[encoded data removed]",
      "text/plain": [
       "<Figure size 432x288 with 2 Axes>"
      ]
     },
     "metadata": {
      "needs_background": "light"
     },
     "output_type": "display_data"
    }
   ],
   "source": [
    "from sklearn.linear_model import LogisticRegression\n",
    "\n",
    "lr_model = LogisticRegression(solver='liblinear')\n",
    "lr_model.fit(X_train_scaled, y_train)\n",
    "y_pred = lr_model.predict(X_test_scaled)\n",
    "\n",
    "show_metrics(y_test, y_pred)"
   ]
  },
  {
   "cell_type": "markdown",
   "metadata": {},
   "source": [
    "### SVM"
   ]
  },
  {
   "cell_type": "code",
   "execution_count": 31,
   "metadata": {
    "scrolled": false
   },
   "outputs": [
    {
     "name": "stdout",
     "output_type": "stream",
     "text": [
      "Accuracy: 83.33%\n",
      "\n",
      "              precision    recall  f1-score   support\n",
      "\n",
      "           0       0.84      0.73      0.78        37\n",
      "           1       0.83      0.91      0.86        53\n",
      "\n",
      "    accuracy                           0.83        90\n",
      "   macro avg       0.84      0.82      0.82        90\n",
      "weighted avg       0.83      0.83      0.83        90\n",
      "\n"
     ]
    },
    {
     "data": {
      "image/png": "[encoded data removed]",
      "text/plain": [
       "<Figure size 432x288 with 2 Axes>"
      ]
     },
     "metadata": {
      "needs_background": "light"
     },
     "output_type": "display_data"
    }
   ],
   "source": [
    "from sklearn.svm import SVC\n",
    "\n",
    "svm_model = SVC(C=1)\n",
    "svm_model.fit(X_train_scaled, y_train)\n",
    "y_pred = svm_model.predict(X_test_scaled)\n",
    "\n",
    "show_metrics(y_test, y_pred)"
   ]
  },
  {
   "cell_type": "markdown",
   "metadata": {},
   "source": [
    "SVM uz C=10 (konstantu koja utječe na regularizaciju; veća vrijednost -> manja regularizacija)"
   ]
  },
  {
   "cell_type": "code",
   "execution_count": 32,
   "metadata": {
    "scrolled": false
   },
   "outputs": [
    {
     "name": "stdout",
     "output_type": "stream",
     "text": [
      "Accuracy: 78.89%\n",
      "\n",
      "              precision    recall  f1-score   support\n",
      "\n",
      "           0       0.80      0.65      0.72        37\n",
      "           1       0.78      0.89      0.83        53\n",
      "\n",
      "    accuracy                           0.79        90\n",
      "   macro avg       0.79      0.77      0.77        90\n",
      "weighted avg       0.79      0.79      0.78        90\n",
      "\n"
     ]
    },
    {
     "data": {
      "image/png": "[encoded data removed]",
      "text/plain": [
       "<Figure size 432x288 with 2 Axes>"
      ]
     },
     "metadata": {
      "needs_background": "light"
     },
     "output_type": "display_data"
    }
   ],
   "source": [
    "svm_model = SVC(C=10)\n",
    "svm_model.fit(X_train_scaled, y_train)\n",
    "y_pred = svm_model.predict(X_test_scaled)\n",
    "\n",
    "show_metrics(y_test, y_pred)"
   ]
  },
  {
   "cell_type": "markdown",
   "metadata": {},
   "source": [
    "Novi rezultati sličniji su rezultatima dobivenim u prijašnjim člancima s kojima se ovaj članak uspoređuje. Sada dobivamo mnogo manju točnost nego prije što potvrđuje prijašnje sumnje da je evaluacija bila pogrešno izvedena.\n"
   ]
  },
  {
   "cell_type": "markdown",
   "metadata": {},
   "source": [
    "### Novi skup podataka"
   ]
  },
  {
   "cell_type": "markdown",
   "metadata": {},
   "source": [
    "Točnost možemo poboljšati sa više podataka. Na sreću dostupan je veći skup podataka sastavljen od 5 podskupova od kojih je jedan i onaj koji je korišten u članku (prikupljen u bolnici u Clevelandu).\n",
    "\n",
    "Novi skup sadrži 11 značajki, 2 manje nego originalan skup, te opet jedne oznake koja označava srčanu bolest tj opasnost od zatajenja srca.\n",
    "Ukupno sadrži 918 očitanja stanja pacijenata te je dostupan na https://www.kaggle.com/fedesoriano/heart-failure-prediction."
   ]
  },
  {
   "cell_type": "code",
   "execution_count": 33,
   "metadata": {
    "scrolled": false
   },
   "outputs": [
    {
     "data": {
      "text/html": [
       "<div>\n",
       "<style scoped>\n",
       "    .dataframe tbody tr th:only-of-type {\n",
       "        vertical-align: middle;\n",
       "    }\n",
       "\n",
       "    .dataframe tbody tr th {\n",
       "        vertical-align: top;\n",
       "    }\n",
       "\n",
       "    .dataframe thead th {\n",
       "        text-align: right;\n",
       "    }\n",
       "</style>\n",
       "<table border=\"1\" class=\"dataframe\">\n",
       "  <thead>\n",
       "    <tr style=\"text-align: right;\">\n",
       "      <th></th>\n",
       "      <th>Age</th>\n",
       "      <th>Sex</th>\n",
       "      <th>ChestPainType</th>\n",
       "      <th>RestingBP</th>\n",
       "      <th>Cholesterol</th>\n",
       "      <th>FastingBS</th>\n",
       "      <th>RestingECG</th>\n",
       "      <th>MaxHR</th>\n",
       "      <th>ExerciseAngina</th>\n",
       "      <th>Oldpeak</th>\n",
       "      <th>ST_Slope</th>\n",
       "      <th>HeartDisease</th>\n",
       "    </tr>\n",
       "  </thead>\n",
       "  <tbody>\n",
       "    <tr>\n",
       "      <th>0</th>\n",
       "      <td>40</td>\n",
       "      <td>M</td>\n",
       "      <td>ATA</td>\n",
       "      <td>140</td>\n",
       "      <td>289</td>\n",
       "      <td>0</td>\n",
       "      <td>Normal</td>\n",
       "      <td>172</td>\n",
       "      <td>N</td>\n",
       "      <td>0.0</td>\n",
       "      <td>Up</td>\n",
       "      <td>0</td>\n",
       "    </tr>\n",
       "    <tr>\n",
       "      <th>1</th>\n",
       "      <td>49</td>\n",
       "      <td>F</td>\n",
       "      <td>NAP</td>\n",
       "      <td>160</td>\n",
       "      <td>180</td>\n",
       "      <td>0</td>\n",
       "      <td>Normal</td>\n",
       "      <td>156</td>\n",
       "      <td>N</td>\n",
       "      <td>1.0</td>\n",
       "      <td>Flat</td>\n",
       "      <td>1</td>\n",
       "    </tr>\n",
       "    <tr>\n",
       "      <th>2</th>\n",
       "      <td>37</td>\n",
       "      <td>M</td>\n",
       "      <td>ATA</td>\n",
       "      <td>130</td>\n",
       "      <td>283</td>\n",
       "      <td>0</td>\n",
       "      <td>ST</td>\n",
       "      <td>98</td>\n",
       "      <td>N</td>\n",
       "      <td>0.0</td>\n",
       "      <td>Up</td>\n",
       "      <td>0</td>\n",
       "    </tr>\n",
       "    <tr>\n",
       "      <th>3</th>\n",
       "      <td>48</td>\n",
       "      <td>F</td>\n",
       "      <td>ASY</td>\n",
       "      <td>138</td>\n",
       "      <td>214</td>\n",
       "      <td>0</td>\n",
       "      <td>Normal</td>\n",
       "      <td>108</td>\n",
       "      <td>Y</td>\n",
       "      <td>1.5</td>\n",
       "      <td>Flat</td>\n",
       "      <td>1</td>\n",
       "    </tr>\n",
       "    <tr>\n",
       "      <th>4</th>\n",
       "      <td>54</td>\n",
       "      <td>M</td>\n",
       "      <td>NAP</td>\n",
       "      <td>150</td>\n",
       "      <td>195</td>\n",
       "      <td>0</td>\n",
       "      <td>Normal</td>\n",
       "      <td>122</td>\n",
       "      <td>N</td>\n",
       "      <td>0.0</td>\n",
       "      <td>Up</td>\n",
       "      <td>0</td>\n",
       "    </tr>\n",
       "    <tr>\n",
       "      <th>...</th>\n",
       "      <td>...</td>\n",
       "      <td>...</td>\n",
       "      <td>...</td>\n",
       "      <td>...</td>\n",
       "      <td>...</td>\n",
       "      <td>...</td>\n",
       "      <td>...</td>\n",
       "      <td>...</td>\n",
       "      <td>...</td>\n",
       "      <td>...</td>\n",
       "      <td>...</td>\n",
       "      <td>...</td>\n",
       "    </tr>\n",
       "    <tr>\n",
       "      <th>913</th>\n",
       "      <td>45</td>\n",
       "      <td>M</td>\n",
       "      <td>TA</td>\n",
       "      <td>110</td>\n",
       "      <td>264</td>\n",
       "      <td>0</td>\n",
       "      <td>Normal</td>\n",
       "      <td>132</td>\n",
       "      <td>N</td>\n",
       "      <td>1.2</td>\n",
       "      <td>Flat</td>\n",
       "      <td>1</td>\n",
       "    </tr>\n",
       "    <tr>\n",
       "      <th>914</th>\n",
       "      <td>68</td>\n",
       "      <td>M</td>\n",
       "      <td>ASY</td>\n",
       "      <td>144</td>\n",
       "      <td>193</td>\n",
       "      <td>1</td>\n",
       "      <td>Normal</td>\n",
       "      <td>141</td>\n",
       "      <td>N</td>\n",
       "      <td>3.4</td>\n",
       "      <td>Flat</td>\n",
       "      <td>1</td>\n",
       "    </tr>\n",
       "    <tr>\n",
       "      <th>915</th>\n",
       "      <td>57</td>\n",
       "      <td>M</td>\n",
       "      <td>ASY</td>\n",
       "      <td>130</td>\n",
       "      <td>131</td>\n",
       "      <td>0</td>\n",
       "      <td>Normal</td>\n",
       "      <td>115</td>\n",
       "      <td>Y</td>\n",
       "      <td>1.2</td>\n",
       "      <td>Flat</td>\n",
       "      <td>1</td>\n",
       "    </tr>\n",
       "    <tr>\n",
       "      <th>916</th>\n",
       "      <td>57</td>\n",
       "      <td>F</td>\n",
       "      <td>ATA</td>\n",
       "      <td>130</td>\n",
       "      <td>236</td>\n",
       "      <td>0</td>\n",
       "      <td>LVH</td>\n",
       "      <td>174</td>\n",
       "      <td>N</td>\n",
       "      <td>0.0</td>\n",
       "      <td>Flat</td>\n",
       "      <td>1</td>\n",
       "    </tr>\n",
       "    <tr>\n",
       "      <th>917</th>\n",
       "      <td>38</td>\n",
       "      <td>M</td>\n",
       "      <td>NAP</td>\n",
       "      <td>138</td>\n",
       "      <td>175</td>\n",
       "      <td>0</td>\n",
       "      <td>Normal</td>\n",
       "      <td>173</td>\n",
       "      <td>N</td>\n",
       "      <td>0.0</td>\n",
       "      <td>Up</td>\n",
       "      <td>0</td>\n",
       "    </tr>\n",
       "  </tbody>\n",
       "</table>\n",
       "<p>918 rows × 12 columns</p>\n",
       "</div>"
      ],
      "text/plain": [
       "     Age Sex ChestPainType  RestingBP  Cholesterol  FastingBS RestingECG  \\\n",
       "0     40   M           ATA        140          289          0     Normal   \n",
       "1     49   F           NAP        160          180          0     Normal   \n",
       "2     37   M           ATA        130          283          0         ST   \n",
       "3     48   F           ASY        138          214          0     Normal   \n",
       "4     54   M           NAP        150          195          0     Normal   \n",
       "..   ...  ..           ...        ...          ...        ...        ...   \n",
       "913   45   M            TA        110          264          0     Normal   \n",
       "914   68   M           ASY        144          193          1     Normal   \n",
       "915   57   M           ASY        130          131          0     Normal   \n",
       "916   57   F           ATA        130          236          0        LVH   \n",
       "917   38   M           NAP        138          175          0     Normal   \n",
       "\n",
       "     MaxHR ExerciseAngina  Oldpeak ST_Slope  HeartDisease  \n",
       "0      172              N      0.0       Up             0  \n",
       "1      156              N      1.0     Flat             1  \n",
       "2       98              N      0.0       Up             0  \n",
       "3      108              Y      1.5     Flat             1  \n",
       "4      122              N      0.0       Up             0  \n",
       "..     ...            ...      ...      ...           ...  \n",
       "913    132              N      1.2     Flat             1  \n",
       "914    141              N      3.4     Flat             1  \n",
       "915    115              Y      1.2     Flat             1  \n",
       "916    174              N      0.0     Flat             1  \n",
       "917    173              N      0.0       Up             0  \n",
       "\n",
       "[918 rows x 12 columns]"
      ]
     },
     "execution_count": 33,
     "metadata": {},
     "output_type": "execute_result"
    }
   ],
   "source": [
    "file = 'data/heart.csv'\n",
    "df = pd.read_csv(file)\n",
    "\n",
    "df"
   ]
  },
  {
   "cell_type": "markdown",
   "metadata": {},
   "source": [
    "### Poboljšanje skupa podataka"
   ]
  },
  {
   "cell_type": "code",
   "execution_count": 34,
   "metadata": {
    "scrolled": false
   },
   "outputs": [
    {
     "data": {
      "image/png": "[encoded data removed]",
      "text/plain": [
       "<Figure size 1440x288 with 5 Axes>"
      ]
     },
     "metadata": {
      "needs_background": "light"
     },
     "output_type": "display_data"
    }
   ],
   "source": [
    "fig, ax = plt.subplots(1, 5, figsize=(20,4))\n",
    "\n",
    "ax[0].boxplot(df.Age)\n",
    "ax[0].title.set_text('Age')\n",
    "\n",
    "ax[1].boxplot(df.RestingBP)\n",
    "ax[1].title.set_text('RestingBP')\n",
    "\n",
    "ax[2].boxplot(df.Cholesterol)\n",
    "ax[2].title.set_text('Cholesterol')\n",
    "\n",
    "ax[3].boxplot(df.MaxHR)\n",
    "ax[3].title.set_text('MaxHR')\n",
    "\n",
    "ax[4].boxplot(df.Oldpeak)\n",
    "ax[4].title.set_text('Oldpeak')\n",
    "\n",
    "plt.show()"
   ]
  },
  {
   "cell_type": "code",
   "execution_count": 35,
   "metadata": {
    "scrolled": false
   },
   "outputs": [],
   "source": [
    "from sklearn.preprocessing import LabelEncoder\n",
    "\n",
    "lab_enc = LabelEncoder()\n",
    "df[\"Sex\"] = lab_enc.fit_transform(df[\"Sex\"])\n",
    "df[\"FastingBS\"] = lab_enc.fit_transform(df[\"FastingBS\"])\n",
    "df[\"ExerciseAngina\"] = lab_enc.fit_transform(df[\"ExerciseAngina\"])"
   ]
  },
  {
   "cell_type": "code",
   "execution_count": 36,
   "metadata": {
    "scrolled": false
   },
   "outputs": [
    {
     "data": {
      "text/plain": [
       "Index(['Age', 'Sex', 'RestingBP', 'Cholesterol', 'FastingBS', 'MaxHR',\n",
       "       'ExerciseAngina', 'Oldpeak', 'HeartDisease', 'ChestPainType_ASY',\n",
       "       'ChestPainType_ATA', 'ChestPainType_NAP', 'ChestPainType_TA',\n",
       "       'RestingECG_LVH', 'RestingECG_Normal', 'RestingECG_ST', 'ST_Slope_Down',\n",
       "       'ST_Slope_Flat', 'ST_Slope_Up'],\n",
       "      dtype='object')"
      ]
     },
     "execution_count": 36,
     "metadata": {},
     "output_type": "execute_result"
    }
   ],
   "source": [
    "df = pd.get_dummies(df, columns=['ChestPainType', 'RestingECG', 'ST_Slope'])\n",
    "\n",
    "df.columns"
   ]
  },
  {
   "cell_type": "code",
   "execution_count": 37,
   "metadata": {
    "scrolled": false
   },
   "outputs": [
    {
     "name": "stdout",
     "output_type": "stream",
     "text": [
      "1\n",
      "172\n"
     ]
    }
   ],
   "source": [
    "print(df.loc[df.RestingBP == 0]['RestingBP'].count())\n",
    "print(df.loc[df.Cholesterol == 0]['Cholesterol'].count())\n",
    "# print(df.loc[df.Oldpeak >= 5]['Oldpeak'].count())"
   ]
  },
  {
   "cell_type": "code",
   "execution_count": 38,
   "metadata": {
    "scrolled": false
   },
   "outputs": [],
   "source": [
    "#df.loc[df.RestingBP == 0, 'RestingBP'] = np.nan\n",
    "#df.loc[df.Cholesterol == 0, 'Cholesterol'] = np.nan\n",
    "\n",
    "#df.isna().sum()"
   ]
  },
  {
   "cell_type": "code",
   "execution_count": 39,
   "metadata": {
    "scrolled": false
   },
   "outputs": [],
   "source": [
    "#from sklearn.experimental import enable_iterative_imputer\n",
    "#from sklearn.impute import KNNImputer, IterativeImputer, SimpleImputer\n",
    "\n",
    "#imputer = KNNImputer(weights='distance', n_neighbors=13)\n",
    "#imputer = IterativeImputer(max_iter=500, sample_posterior=True, skip_complete=True)\n",
    "#imputer = SimpleImputer()\n",
    "#imputed_data = imputer.fit_transform(df)\n",
    "\n",
    "#df_temp = pd.DataFrame(imputed_data)\n",
    "#df_temp.columns = df.columns\n",
    "#df = df_temp\n",
    "\n",
    "#df.isna().sum()"
   ]
  },
  {
   "cell_type": "markdown",
   "metadata": {},
   "source": [
    "Zamjena nedostajećih vrijednosti u ovom slučaju ne pomaže povećati točnost tako da ostavljam vrijednosti takve kakve jesu.\n",
    "\n",
    "Dodatno ćemo izbaciti nekoliko primjera sa stršećim vrijednostima."
   ]
  },
  {
   "cell_type": "code",
   "execution_count": 40,
   "metadata": {
    "scrolled": false
   },
   "outputs": [],
   "source": [
    "df = df.loc[df.RestingBP > 0]\n",
    "df = df.loc[df.Oldpeak <= 5]"
   ]
  },
  {
   "cell_type": "markdown",
   "metadata": {},
   "source": [
    "Odavajanje podataka na skup za treniranje i skup za testiranje.\n",
    "\n",
    "Tek se nakon ovog koraka mogu stvoriti sintetički podaci i to samo od skupa za treniranje."
   ]
  },
  {
   "cell_type": "code",
   "execution_count": 41,
   "metadata": {
    "scrolled": false
   },
   "outputs": [],
   "source": [
    "for column in df.columns:\n",
    "        df[column] = df[column].astype(float)\n",
    "\n",
    "df_train, df_test = model_selection.train_test_split(df, test_size=0.3, random_state=42)"
   ]
  },
  {
   "cell_type": "code",
   "execution_count": 42,
   "metadata": {
    "scrolled": false
   },
   "outputs": [],
   "source": [
    "def synthesize_data(samples: int, exisitngData: pd.DataFrame, var=0.02):\n",
    "    new = []\n",
    "    numeric = ['Age', 'RestingBP', 'Cholesterol', 'MaxHR', 'Oldpeak']\n",
    "    \n",
    "    for i in range(samples):\n",
    "        original = exisitngData.iloc[random.randint(0, len(exisitngData) - 1)].copy()\n",
    "        for column in numeric:\n",
    "            original[column] += random.gauss(mu=0.0, sigma=(original[column] * var))\n",
    "\n",
    "        new.append(original)\n",
    "    \n",
    "    new = pd.DataFrame(new)\n",
    "    for column in new.columns:\n",
    "        new[column] = new[column].astype(float) \n",
    "    \n",
    "    #new.drop(columns=['Id'])\n",
    "    return new"
   ]
  },
  {
   "cell_type": "markdown",
   "metadata": {},
   "source": [
    "Stvaranje sintetičkih podataka, otprilike u omjeru 1:1 sa originalnim podacima."
   ]
  },
  {
   "cell_type": "code",
   "execution_count": 43,
   "metadata": {
    "scrolled": false
   },
   "outputs": [],
   "source": [
    "df_synthetic = synthesize_data(800, df_train, var=0.1)\n",
    "df_train_new = df_train\n",
    "df_train_new = pd.merge(df_synthetic, df_train, how='outer')"
   ]
  },
  {
   "cell_type": "code",
   "execution_count": 44,
   "metadata": {
    "scrolled": false
   },
   "outputs": [],
   "source": [
    "X_train = df_train_new.filter(regex='^(?!HeartDisease$).*')\n",
    "y_train = df_train_new['HeartDisease']\n",
    "\n",
    "X_test = df_test.filter(regex='^(?!HeartDisease$).*')\n",
    "y_test = df_test['HeartDisease']"
   ]
  },
  {
   "cell_type": "code",
   "execution_count": 45,
   "metadata": {
    "scrolled": false
   },
   "outputs": [],
   "source": [
    "X_train = X_train.to_numpy()\n",
    "y_train = y_train.to_numpy()\n",
    "\n",
    "X_test = X_test.to_numpy()\n",
    "y_test = y_test.to_numpy()"
   ]
  },
  {
   "cell_type": "markdown",
   "metadata": {},
   "source": [
    "Skaliranje podataka."
   ]
  },
  {
   "cell_type": "code",
   "execution_count": 46,
   "metadata": {
    "scrolled": false
   },
   "outputs": [],
   "source": [
    "scaler = preprocessing.StandardScaler().fit(X_train)\n",
    "\n",
    "X_train_scaled = scaler.transform(X_train)\n",
    "X_test_scaled = scaler.transform(X_test)"
   ]
  },
  {
   "cell_type": "markdown",
   "metadata": {},
   "source": [
    "Funkcija za evaluaciju."
   ]
  },
  {
   "cell_type": "code",
   "execution_count": 47,
   "metadata": {
    "scrolled": false
   },
   "outputs": [],
   "source": [
    "def eval(X_train, y_train, X_test, y_test, rich=False):\n",
    "    models = [DecisionTreeClassifier(), GaussianNB(), RandomForestClassifier(), LogisticRegression(solver='liblinear'), SVC(C=0.75)]\n",
    "    messages = ['Stabla odluke:', 'Naivna Bayesova klasifikacija:', 'Random Forest:', 'Logistička regresija:', 'Stroj potpornih vektora:']\n",
    "    \n",
    "    for model, mess in zip(models, messages):\n",
    "        print(mess)\n",
    "        model.fit(X_train, y_train)\n",
    "        y_pred = model.predict(X_test)\n",
    "        show_metrics(y_test, y_pred, rich=rich)\n",
    "        plt.show()\n",
    "    "
   ]
  },
  {
   "cell_type": "code",
   "execution_count": 48,
   "metadata": {
    "scrolled": false
   },
   "outputs": [
    {
     "name": "stdout",
     "output_type": "stream",
     "text": [
      "Stabla odluke:\n",
      "Accuracy: 81.45%\n",
      "\n",
      "Naivna Bayesova klasifikacija:\n",
      "Accuracy: 88.00%\n",
      "\n",
      "Random Forest:\n",
      "Accuracy: 88.73%\n",
      "\n",
      "Logistička regresija:\n",
      "Accuracy: 89.09%\n",
      "\n",
      "Stroj potpornih vektora:\n",
      "Accuracy: 89.82%\n",
      "\n"
     ]
    }
   ],
   "source": [
    "eval(X_train_scaled, y_train, X_test_scaled, y_test)"
   ]
  },
  {
   "cell_type": "markdown",
   "metadata": {},
   "source": [
    "Razultat se može još malo poboljšati stvaranjem interakcijskih značajki i biranjem onih najbitnijih."
   ]
  },
  {
   "cell_type": "code",
   "execution_count": 49,
   "metadata": {
    "scrolled": false
   },
   "outputs": [],
   "source": [
    "from sklearn.preprocessing import PolynomialFeatures\n",
    "\n",
    "poly = PolynomialFeatures(3, interaction_only=True)\n",
    "X_train_poly = poly.fit_transform(X_train)\n",
    "X_test_poly = poly.fit_transform(X_test)\n",
    "\n",
    "scaler = preprocessing.StandardScaler().fit(X_train_poly)\n",
    "X_train_poly = scaler.transform(X_train_poly)\n",
    "X_test_poly = scaler.transform(X_test_poly)\n",
    "\n",
    "kbest = SelectKBest(mutual_info_classif, k=80)\n",
    "kbest.fit(X_train_poly, y_train)\n",
    "\n",
    "mask = kbest.get_support()\n",
    "X_train_reduced = X_train_poly[:,mask]\n",
    "X_test_reduced = X_test_poly[:,mask]"
   ]
  },
  {
   "cell_type": "code",
   "execution_count": 50,
   "metadata": {
    "scrolled": false
   },
   "outputs": [
    {
     "name": "stdout",
     "output_type": "stream",
     "text": [
      "Stabla odluke:\n",
      "Accuracy: 85.82%\n",
      "\n",
      "              precision    recall  f1-score   support\n",
      "\n",
      "         0.0       0.81      0.83      0.82       109\n",
      "         1.0       0.89      0.87      0.88       166\n",
      "\n",
      "    accuracy                           0.86       275\n",
      "   macro avg       0.85      0.85      0.85       275\n",
      "weighted avg       0.86      0.86      0.86       275\n",
      "\n"
     ]
    },
    {
     "data": {
      "image/png": "[encoded data removed]",
      "text/plain": [
       "<Figure size 432x288 with 2 Axes>"
      ]
     },
     "metadata": {
      "needs_background": "light"
     },
     "output_type": "display_data"
    },
    {
     "name": "stdout",
     "output_type": "stream",
     "text": [
      "Naivna Bayesova klasifikacija:\n",
      "Accuracy: 84.00%\n",
      "\n",
      "              precision    recall  f1-score   support\n",
      "\n",
      "         0.0       0.75      0.89      0.82       109\n",
      "         1.0       0.92      0.81      0.86       166\n",
      "\n",
      "    accuracy                           0.84       275\n",
      "   macro avg       0.83      0.85      0.84       275\n",
      "weighted avg       0.85      0.84      0.84       275\n",
      "\n"
     ]
    },
    {
     "data": {
      "image/png": "[encoded data removed]",
      "text/plain": [
       "<Figure size 432x288 with 2 Axes>"
      ]
     },
     "metadata": {
      "needs_background": "light"
     },
     "output_type": "display_data"
    },
    {
     "name": "stdout",
     "output_type": "stream",
     "text": [
      "Random Forest:\n",
      "Accuracy: 86.55%\n",
      "\n",
      "              precision    recall  f1-score   support\n",
      "\n",
      "         0.0       0.81      0.86      0.84       109\n",
      "         1.0       0.91      0.87      0.89       166\n",
      "\n",
      "    accuracy                           0.87       275\n",
      "   macro avg       0.86      0.86      0.86       275\n",
      "weighted avg       0.87      0.87      0.87       275\n",
      "\n"
     ]
    },
    {
     "data": {
      "image/png": "[encoded data removed]",
      "text/plain": [
       "<Figure size 432x288 with 2 Axes>"
      ]
     },
     "metadata": {
      "needs_background": "light"
     },
     "output_type": "display_data"
    },
    {
     "name": "stdout",
     "output_type": "stream",
     "text": [
      "Logistička regresija:\n",
      "Accuracy: 90.55%\n",
      "\n",
      "              precision    recall  f1-score   support\n",
      "\n",
      "         0.0       0.87      0.90      0.88       109\n",
      "         1.0       0.93      0.91      0.92       166\n",
      "\n",
      "    accuracy                           0.91       275\n",
      "   macro avg       0.90      0.90      0.90       275\n",
      "weighted avg       0.91      0.91      0.91       275\n",
      "\n"
     ]
    },
    {
     "data": {
      "image/png": "[encoded data removed]",
      "text/plain": [
       "<Figure size 432x288 with 2 Axes>"
      ]
     },
     "metadata": {
      "needs_background": "light"
     },
     "output_type": "display_data"
    },
    {
     "name": "stdout",
     "output_type": "stream",
     "text": [
      "Stroj potpornih vektora:\n",
      "Accuracy: 90.91%\n",
      "\n",
      "              precision    recall  f1-score   support\n",
      "\n",
      "         0.0       0.89      0.88      0.88       109\n",
      "         1.0       0.92      0.93      0.92       166\n",
      "\n",
      "    accuracy                           0.91       275\n",
      "   macro avg       0.91      0.90      0.90       275\n",
      "weighted avg       0.91      0.91      0.91       275\n",
      "\n"
     ]
    },
    {
     "data": {
      "image/png": "[encoded data removed]",
      "text/plain": [
       "<Figure size 432x288 with 2 Axes>"
      ]
     },
     "metadata": {
      "needs_background": "light"
     },
     "output_type": "display_data"
    }
   ],
   "source": [
    "eval(X_train_reduced, y_train, X_test_reduced, y_test, rich=True)"
   ]
  },
  {
   "cell_type": "markdown",
   "metadata": {},
   "source": [
    "### Isprobavanje dodatnih klasifikacijskih modela"
   ]
  },
  {
   "cell_type": "markdown",
   "metadata": {},
   "source": [
    "Isprobavanjem još nekoliko drugih klasifikatora nisam dobio bolje rezultate."
   ]
  },
  {
   "cell_type": "code",
   "execution_count": 51,
   "metadata": {
    "scrolled": false
   },
   "outputs": [
    {
     "name": "stdout",
     "output_type": "stream",
     "text": [
      "Accuracy: 85.09%\n",
      "\n"
     ]
    }
   ],
   "source": [
    "from sklearn.gaussian_process import GaussianProcessClassifier\n",
    "\n",
    "gauss_model = GaussianProcessClassifier()\n",
    "gauss_model.fit(X_train_scaled, y_train)\n",
    "y_pred = gauss_model.predict(X_test_scaled)\n",
    "\n",
    "show_metrics(y_test, y_pred, rich=False)"
   ]
  },
  {
   "cell_type": "code",
   "execution_count": 52,
   "metadata": {
    "scrolled": false
   },
   "outputs": [
    {
     "name": "stdout",
     "output_type": "stream",
     "text": [
      "Accuracy: 81.82%\n",
      "\n"
     ]
    }
   ],
   "source": [
    "from sklearn.neighbors import KNeighborsClassifier\n",
    "\n",
    "knn_model = KNeighborsClassifier()\n",
    "knn_model.fit(X_train_scaled, y_train)\n",
    "y_pred = knn_model.predict(X_test_scaled)\n",
    "\n",
    "show_metrics(y_test, y_pred, rich=False)"
   ]
  },
  {
   "cell_type": "code",
   "execution_count": 53,
   "metadata": {
    "scrolled": false
   },
   "outputs": [
    {
     "name": "stdout",
     "output_type": "stream",
     "text": [
      "Accuracy: 86.55%\n",
      "\n"
     ]
    },
    {
     "name": "stderr",
     "output_type": "stream",
     "text": [
      "/home/jakov/.local/lib/python3.8/site-packages/sklearn/neural_network/_multilayer_perceptron.py:692: ConvergenceWarning: Stochastic Optimizer: Maximum iterations (500) reached and the optimization hasn't converged yet.\n",
      "  warnings.warn(\n"
     ]
    }
   ],
   "source": [
    "from sklearn.neural_network import MLPClassifier\n",
    "\n",
    "neural_net_model = MLPClassifier(hidden_layer_sizes=(256), learning_rate='adaptive', max_iter=500)\n",
    "neural_net_model.fit(X_train_scaled, y_train)\n",
    "y_pred = neural_net_model.predict(X_test_scaled)\n",
    "\n",
    "show_metrics(y_test, y_pred, rich=False)"
   ]
  },
  {
   "cell_type": "code",
   "execution_count": 54,
   "metadata": {
    "scrolled": false
   },
   "outputs": [
    {
     "name": "stdout",
     "output_type": "stream",
     "text": [
      "Accuracy: 87.27%\n",
      "\n"
     ]
    }
   ],
   "source": [
    "from sklearn.ensemble import AdaBoostClassifier\n",
    "\n",
    "ada_model = AdaBoostClassifier(learning_rate=0.05)\n",
    "ada_model.fit(X_train_scaled, y_train)\n",
    "y_pred = ada_model.predict(X_test_scaled)\n",
    "\n",
    "show_metrics(y_test, y_pred, rich=False)"
   ]
  },
  {
   "cell_type": "code",
   "execution_count": 55,
   "metadata": {
    "scrolled": false
   },
   "outputs": [
    {
     "name": "stdout",
     "output_type": "stream",
     "text": [
      "Accuracy: 90.18%\n",
      "\n"
     ]
    }
   ],
   "source": [
    "from sklearn.svm import NuSVC\n",
    "\n",
    "nusvc_model = NuSVC()\n",
    "nusvc_model.fit(X_train_scaled, y_train)\n",
    "y_pred = nusvc_model.predict(X_test_scaled)\n",
    "\n",
    "show_metrics(y_test, y_pred, rich=False)"
   ]
  },
  {
   "cell_type": "markdown",
   "metadata": {},
   "source": [
    "### Novi zaključak"
   ]
  },
  {
   "cell_type": "markdown",
   "metadata": {},
   "source": [
    "Točnost za baseline implementaciju iznosi između 60% i 83% ovisno o klasifikatoru te odgovara rezultatima prijašnjih članaka.\n",
    "\n",
    "Korištenjem mnogo većeg skupa podataka koji sadrži otprilike 3 puta više podataka nego originalni skup uspio sam uvelike povećati točnost predviđanja. Došao sam do zaključka kako ne treba pretjerati sa količinom sintetičkih podataka pa sam smanjio omjer sintetičkih i stvarnih podataka sa otprilike 3:1 na 1:1 te tako malo povećao točnost nekih modela. Točnost sam uvelike uspio povećati i stvaranjem interakcijskih značajki te biranjem samo najvažnijih značajki za proces treniranja.\n",
    "\n",
    "Na kraju sam isprobao i nekoliko drugih klasifikacijskih modela implementiranih u biblioteci Scikit-learn no oni nisu rezultirali povećanju točnosti u odnosu na originalno korištene modele.\n",
    "\n",
    "Konačna najbolja točnost koju sam dobio iznosi oko 91% što je za 8 postotnih bodova više od prijašnjeg najboljeg rezultata te su rezultati svih 5 modela puno stabilniji."
   ]
  }
 ],
 "metadata": {
  "kernelspec": {
   "display_name": "Python 3 (ipykernel)",
   "language": "python",
   "name": "python3"
  },
  "language_info": {
   "codemirror_mode": {
    "name": "ipython",
    "version": 3
   },
   "file_extension": ".py",
   "mimetype": "text/x-python",
   "name": "python",
   "nbconvert_exporter": "python",
   "pygments_lexer": "ipython3",
   "version": "3.8.10"
  }
 },
 "nbformat": 4,
 "nbformat_minor": 4
}
